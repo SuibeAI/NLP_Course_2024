{
 "cells": [
  {
   "cell_type": "code",
   "execution_count": 1,
   "id": "c1b2db7f",
   "metadata": {},
   "outputs": [],
   "source": [
    "import pandas as pd\n",
    "import numpy as np\n",
    "import torch\n",
    "import torch.nn.functional as F\n",
    "from torch.utils.data import Dataset\n",
    "from collections import defaultdict"
   ]
  },
  {
   "cell_type": "markdown",
   "id": "1052ac85",
   "metadata": {},
   "source": [
    "# 短语情感分类\n",
    "\n",
    "对Phrase字段中的文本进行分类，分类结果为\n",
    "\n",
    "- 0 - negative\n",
    "- 1 - somewhat negative\n",
    "- 2 - neutral\n",
    "- 3 - somewhat positive\n",
    "- 4 - positive"
   ]
  },
  {
   "cell_type": "code",
   "execution_count": 2,
   "id": "e7f04ee5",
   "metadata": {},
   "outputs": [
    {
     "data": {
      "text/plain": [
       "2    79582\n",
       "3    32927\n",
       "1    27273\n",
       "4     9206\n",
       "0     7072\n",
       "Name: Sentiment, dtype: int64"
      ]
     },
     "execution_count": 2,
     "metadata": {},
     "output_type": "execute_result"
    }
   ],
   "source": [
    "train = pd.read_csv('train.tsv', sep='\\t')\n",
    "train.Sentiment.value_counts()"
   ]
  },
  {
   "cell_type": "code",
   "execution_count": 3,
   "id": "9292d6d2",
   "metadata": {},
   "outputs": [
    {
     "data": {
      "text/html": [
       "<div>\n",
       "<style scoped>\n",
       "    .dataframe tbody tr th:only-of-type {\n",
       "        vertical-align: middle;\n",
       "    }\n",
       "\n",
       "    .dataframe tbody tr th {\n",
       "        vertical-align: top;\n",
       "    }\n",
       "\n",
       "    .dataframe thead th {\n",
       "        text-align: right;\n",
       "    }\n",
       "</style>\n",
       "<table border=\"1\" class=\"dataframe\">\n",
       "  <thead>\n",
       "    <tr style=\"text-align: right;\">\n",
       "      <th></th>\n",
       "      <th>PhraseId</th>\n",
       "      <th>SentenceId</th>\n",
       "      <th>Phrase</th>\n",
       "      <th>Sentiment</th>\n",
       "    </tr>\n",
       "  </thead>\n",
       "  <tbody>\n",
       "    <tr>\n",
       "      <th>18643</th>\n",
       "      <td>18644</td>\n",
       "      <td>818</td>\n",
       "      <td>`` I guess I come from a broken family , and m...</td>\n",
       "      <td>2</td>\n",
       "    </tr>\n",
       "    <tr>\n",
       "      <th>98114</th>\n",
       "      <td>98115</td>\n",
       "      <td>5140</td>\n",
       "      <td>that tends to hammer home every one of its points</td>\n",
       "      <td>2</td>\n",
       "    </tr>\n",
       "    <tr>\n",
       "      <th>38118</th>\n",
       "      <td>38119</td>\n",
       "      <td>1813</td>\n",
       "      <td>Spirit 's visual imagination reminds you of wh...</td>\n",
       "      <td>4</td>\n",
       "    </tr>\n",
       "    <tr>\n",
       "      <th>27816</th>\n",
       "      <td>27817</td>\n",
       "      <td>1277</td>\n",
       "      <td>would not likely</td>\n",
       "      <td>2</td>\n",
       "    </tr>\n",
       "    <tr>\n",
       "      <th>40161</th>\n",
       "      <td>40162</td>\n",
       "      <td>1923</td>\n",
       "      <td>of its provocative conclusion</td>\n",
       "      <td>3</td>\n",
       "    </tr>\n",
       "    <tr>\n",
       "      <th>3061</th>\n",
       "      <td>3062</td>\n",
       "      <td>114</td>\n",
       "      <td>rouses us .</td>\n",
       "      <td>3</td>\n",
       "    </tr>\n",
       "    <tr>\n",
       "      <th>83741</th>\n",
       "      <td>83742</td>\n",
       "      <td>4329</td>\n",
       "      <td>such exuberance and passion</td>\n",
       "      <td>4</td>\n",
       "    </tr>\n",
       "    <tr>\n",
       "      <th>149636</th>\n",
       "      <td>149637</td>\n",
       "      <td>8145</td>\n",
       "      <td>plenty of funny movies</td>\n",
       "      <td>3</td>\n",
       "    </tr>\n",
       "    <tr>\n",
       "      <th>133567</th>\n",
       "      <td>133568</td>\n",
       "      <td>7206</td>\n",
       "      <td>A photographic marvel</td>\n",
       "      <td>3</td>\n",
       "    </tr>\n",
       "    <tr>\n",
       "      <th>89882</th>\n",
       "      <td>89883</td>\n",
       "      <td>4677</td>\n",
       "      <td>likely to enjoy on a computer</td>\n",
       "      <td>2</td>\n",
       "    </tr>\n",
       "    <tr>\n",
       "      <th>62299</th>\n",
       "      <td>62300</td>\n",
       "      <td>3149</td>\n",
       "      <td>a Pasolini film</td>\n",
       "      <td>2</td>\n",
       "    </tr>\n",
       "    <tr>\n",
       "      <th>76185</th>\n",
       "      <td>76186</td>\n",
       "      <td>3909</td>\n",
       "      <td>by how many tit-for-tat retaliatory responses ...</td>\n",
       "      <td>2</td>\n",
       "    </tr>\n",
       "    <tr>\n",
       "      <th>53749</th>\n",
       "      <td>53750</td>\n",
       "      <td>2668</td>\n",
       "      <td>and action sequences</td>\n",
       "      <td>2</td>\n",
       "    </tr>\n",
       "    <tr>\n",
       "      <th>25483</th>\n",
       "      <td>25484</td>\n",
       "      <td>1166</td>\n",
       "      <td>guarded</td>\n",
       "      <td>2</td>\n",
       "    </tr>\n",
       "    <tr>\n",
       "      <th>31590</th>\n",
       "      <td>31591</td>\n",
       "      <td>1479</td>\n",
       "      <td>other flicks</td>\n",
       "      <td>2</td>\n",
       "    </tr>\n",
       "    <tr>\n",
       "      <th>7265</th>\n",
       "      <td>7266</td>\n",
       "      <td>296</td>\n",
       "      <td>to look it up</td>\n",
       "      <td>2</td>\n",
       "    </tr>\n",
       "    <tr>\n",
       "      <th>125585</th>\n",
       "      <td>125586</td>\n",
       "      <td>6746</td>\n",
       "      <td>the longest 90 minutes</td>\n",
       "      <td>0</td>\n",
       "    </tr>\n",
       "    <tr>\n",
       "      <th>152582</th>\n",
       "      <td>152583</td>\n",
       "      <td>8327</td>\n",
       "      <td>A glib but bouncy bit</td>\n",
       "      <td>3</td>\n",
       "    </tr>\n",
       "    <tr>\n",
       "      <th>136866</th>\n",
       "      <td>136867</td>\n",
       "      <td>7402</td>\n",
       "      <td>best intentions</td>\n",
       "      <td>3</td>\n",
       "    </tr>\n",
       "    <tr>\n",
       "      <th>42781</th>\n",
       "      <td>42782</td>\n",
       "      <td>2065</td>\n",
       "      <td>cold , oddly colorful and just plain otherworl...</td>\n",
       "      <td>3</td>\n",
       "    </tr>\n",
       "  </tbody>\n",
       "</table>\n",
       "</div>"
      ],
      "text/plain": [
       "        PhraseId  SentenceId  \\\n",
       "18643      18644         818   \n",
       "98114      98115        5140   \n",
       "38118      38119        1813   \n",
       "27816      27817        1277   \n",
       "40161      40162        1923   \n",
       "3061        3062         114   \n",
       "83741      83742        4329   \n",
       "149636    149637        8145   \n",
       "133567    133568        7206   \n",
       "89882      89883        4677   \n",
       "62299      62300        3149   \n",
       "76185      76186        3909   \n",
       "53749      53750        2668   \n",
       "25483      25484        1166   \n",
       "31590      31591        1479   \n",
       "7265        7266         296   \n",
       "125585    125586        6746   \n",
       "152582    152583        8327   \n",
       "136866    136867        7402   \n",
       "42781      42782        2065   \n",
       "\n",
       "                                                   Phrase  Sentiment  \n",
       "18643   `` I guess I come from a broken family , and m...          2  \n",
       "98114   that tends to hammer home every one of its points          2  \n",
       "38118   Spirit 's visual imagination reminds you of wh...          4  \n",
       "27816                                    would not likely          2  \n",
       "40161                       of its provocative conclusion          3  \n",
       "3061                                          rouses us .          3  \n",
       "83741                         such exuberance and passion          4  \n",
       "149636                             plenty of funny movies          3  \n",
       "133567                              A photographic marvel          3  \n",
       "89882                       likely to enjoy on a computer          2  \n",
       "62299                                     a Pasolini film          2  \n",
       "76185   by how many tit-for-tat retaliatory responses ...          2  \n",
       "53749                                and action sequences          2  \n",
       "25483                                             guarded          2  \n",
       "31590                                        other flicks          2  \n",
       "7265                                        to look it up          2  \n",
       "125585                             the longest 90 minutes          0  \n",
       "152582                              A glib but bouncy bit          3  \n",
       "136866                                    best intentions          3  \n",
       "42781   cold , oddly colorful and just plain otherworl...          3  "
      ]
     },
     "execution_count": 3,
     "metadata": {},
     "output_type": "execute_result"
    }
   ],
   "source": [
    "train.sample(20)"
   ]
  },
  {
   "cell_type": "markdown",
   "id": "001f6825",
   "metadata": {},
   "source": [
    "## 数据预处理\n",
    "1. 统计单词频率并保留频率最高的1000个单词，构建单词到索引的映射，以及构建索引到单词的映射。"
   ]
  },
  {
   "cell_type": "code",
   "execution_count": 4,
   "id": "94cd4f35",
   "metadata": {},
   "outputs": [
    {
     "name": "stdout",
     "output_type": "stream",
     "text": [
      "<UNK>: 2000\n"
     ]
    }
   ],
   "source": [
    "# 使用部分数据\n",
    "# train = train.head(1000)\n",
    "\n",
    "# 创建字典\n",
    "len_list = []\n",
    "word_freq_map = defaultdict(int)\n",
    "for sentence in train.Phrase:\n",
    "    words = sentence.split()\n",
    "    words = [w.lower() for w in words] # 统一为小写\n",
    "    len_list.append(len(words))\n",
    "    for word in words:\n",
    "        word_freq_map[word] += 1\n",
    "\n",
    "word_freq_map = dict(sorted(word_freq_map.items(),\n",
    "                                   key=lambda x: x[1], reverse=True))\n",
    "top_k_words = 2000\n",
    "# 使用列表根据序号查找单词 (特殊词 <UNK> 表示未登录词)\n",
    "idx2word = list(word_freq_map.keys())[:top_k_words] + ['<UNK>'] # \n",
    "# 使用词典根据单词查找序号\n",
    "word2idx = {idx2word[i]:i for i in range(len(idx2word))}\n",
    "print('<UNK>:', word2idx['<UNK>'])"
   ]
  },
  {
   "cell_type": "markdown",
   "id": "92b2bf9a",
   "metadata": {},
   "source": [
    "2. 构建基于Bag-of-Words的数据集"
   ]
  },
  {
   "cell_type": "code",
   "execution_count": 5,
   "id": "6aafae02",
   "metadata": {},
   "outputs": [],
   "source": [
    "# Bag of Words dataset \n",
    "def extract_BoW_feat(df, idx2word, word2idx):\n",
    "    X = []\n",
    "    for sentence in df.Phrase:\n",
    "        x = np.zeros(len(idx2word)) # BoW不需要不考虑<PAD>\n",
    "        words = sentence.split()\n",
    "        words = [w.lower() for w in words]\n",
    "        for w in words:\n",
    "            if w in word2idx:\n",
    "                x[word2idx[w]]+=1\n",
    "            else:\n",
    "                x[word2idx['<UNK>']]+=1\n",
    "        X.append(x)\n",
    "    X = np.array(X)\n",
    "    y = np.array(df.Sentiment)\n",
    "    return X, y"
   ]
  },
  {
   "cell_type": "code",
   "execution_count": 6,
   "id": "bc9c8882",
   "metadata": {},
   "outputs": [],
   "source": [
    "X,y = extract_BoW_feat(train, idx2word, word2idx)"
   ]
  },
  {
   "cell_type": "code",
   "execution_count": 7,
   "id": "2fa05bc3",
   "metadata": {},
   "outputs": [],
   "source": [
    "train_num = int(len(X) * 0.8)\n",
    "X_train = X[:train_num]\n",
    "y_train = y[:train_num]\n",
    "X_val = X[train_num:]\n",
    "y_val = y[train_num:]"
   ]
  },
  {
   "cell_type": "code",
   "execution_count": 8,
   "id": "5f32f996",
   "metadata": {},
   "outputs": [],
   "source": [
    "class SentimentDataset(Dataset):\n",
    "    def __init__(self, X, y):\n",
    "        self.X = torch.tensor(X, dtype=torch.float32)\n",
    "        self.y = torch.tensor(y, dtype=torch.long)\n",
    "\n",
    "    def __len__(self):\n",
    "        return len(self.X)\n",
    "\n",
    "    def __getitem__(self, idx):\n",
    "        return self.X[idx], self.y[idx]"
   ]
  },
  {
   "cell_type": "code",
   "execution_count": 9,
   "id": "b98edb32",
   "metadata": {},
   "outputs": [],
   "source": [
    "# 创建训练与验证数据集\n",
    "train_dataset = SentimentDataset(X_train, y_train)\n",
    "val_dataset = SentimentDataset(X_val, y_val)"
   ]
  },
  {
   "cell_type": "markdown",
   "id": "19bc4a32",
   "metadata": {},
   "source": [
    "## 构建模型"
   ]
  },
  {
   "cell_type": "code",
   "execution_count": 10,
   "id": "29e9de06",
   "metadata": {},
   "outputs": [],
   "source": [
    "import torch\n",
    "import torch.nn as nn\n",
    "import torch.optim as optim\n",
    "from torch.utils.data import DataLoader\n",
    "from sklearn.model_selection import train_test_split\n",
    "\n",
    "# Define the MLP model\n",
    "class MLP(nn.Module):\n",
    "    def __init__(self, input_dim, hid_dim, output_dim):\n",
    "        super(MLP, self).__init__()\n",
    "        self.fc1 = nn.Linear(input_dim, hid_dim)\n",
    "        self.relu = nn.ReLU()\n",
    "        self.fc2 = nn.Linear(hid_dim, output_dim)  # 5 classes for classification\n",
    "\n",
    "    def forward(self, x):\n",
    "        x = self.fc1(x)\n",
    "        x = self.relu(x)\n",
    "        x = self.fc2(x)\n",
    "        x = F.softmax(x, dim=-1)\n",
    "        return x\n",
    "\n"
   ]
  },
  {
   "cell_type": "code",
   "execution_count": 11,
   "id": "804def77",
   "metadata": {},
   "outputs": [],
   "source": [
    "# Create an instance of the MLP model\n",
    "model = MLP(top_k_words+1, 100, 5)\n",
    "\n",
    "# Define the optimizer and loss function\n",
    "optimizer = optim.Adam(model.parameters(), lr=0.001)\n",
    "criterion = nn.CrossEntropyLoss()\n",
    "\n",
    "\n",
    "# Create DataLoader instances for training and validation\n",
    "train_loader = DataLoader(train_dataset, batch_size=32, shuffle=True)\n",
    "val_loader = DataLoader(val_dataset, batch_size=32, shuffle=False)"
   ]
  },
  {
   "cell_type": "markdown",
   "id": "a9ec1215",
   "metadata": {},
   "source": [
    "## 模型训练"
   ]
  },
  {
   "cell_type": "code",
   "execution_count": 19,
   "id": "3f64d494",
   "metadata": {},
   "outputs": [
    {
     "name": "stdout",
     "output_type": "stream",
     "text": [
      "Epoch 1/10, Loss: 0.0364, Val Loss: 0.0416, Train Acc: 74.22%, Val Acc: 57.10%\n",
      "Epoch 2/10, Loss: 0.0363, Val Loss: 0.0416, Train Acc: 74.33%, Val Acc: 57.10%\n",
      "Epoch 3/10, Loss: 0.0363, Val Loss: 0.0415, Train Acc: 74.48%, Val Acc: 57.30%\n",
      "Epoch 4/10, Loss: 0.0363, Val Loss: 0.0416, Train Acc: 74.54%, Val Acc: 57.01%\n",
      "Epoch 5/10, Loss: 0.0362, Val Loss: 0.0416, Train Acc: 74.70%, Val Acc: 57.09%\n",
      "Epoch 6/10, Loss: 0.0362, Val Loss: 0.0416, Train Acc: 74.76%, Val Acc: 57.05%\n",
      "Epoch 7/10, Loss: 0.0362, Val Loss: 0.0416, Train Acc: 74.86%, Val Acc: 56.95%\n",
      "Epoch 8/10, Loss: 0.0361, Val Loss: 0.0416, Train Acc: 74.95%, Val Acc: 57.03%\n",
      "Epoch 9/10, Loss: 0.0361, Val Loss: 0.0416, Train Acc: 75.06%, Val Acc: 57.01%\n",
      "Epoch 10/10, Loss: 0.0361, Val Loss: 0.0416, Train Acc: 75.10%, Val Acc: 56.93%\n"
     ]
    }
   ],
   "source": [
    "import matplotlib.pyplot as plt\n",
    "import numpy as np\n",
    "\n",
    "train_losses = []\n",
    "val_losses = []\n",
    "train_accuracies = []\n",
    "val_accuracies = []\n",
    "\n",
    "# Training loop\n",
    "num_epochs = 10\n",
    "for epoch in range(num_epochs):\n",
    "    model.train()\n",
    "    running_loss = 0.0\n",
    "    train_correct = 0\n",
    "    for inputs, labels in train_loader:\n",
    "        optimizer.zero_grad()\n",
    "        outputs = model(inputs)\n",
    "        _, predicted = torch.max(outputs.data, 1)\n",
    "        train_correct += (predicted == labels).sum().item()\n",
    "        loss = criterion(outputs, labels)\n",
    "        loss.backward()\n",
    "        optimizer.step()\n",
    "        running_loss += loss.item()\n",
    "    train_loss = running_loss / len(train_loader.dataset)\n",
    "    train_losses.append(train_loss)\n",
    "    train_acc = (train_correct/len(train_loader.dataset)) * 100\n",
    "    train_accuracies.append(train_acc)\n",
    "\n",
    "    # Validation loop\n",
    "    model.eval()\n",
    "    val_loss = 0.0\n",
    "    correct = 0\n",
    "    with torch.no_grad():\n",
    "        for inputs, labels in val_loader:\n",
    "            outputs = model(inputs)\n",
    "            _, predicted = torch.max(outputs.data, 1)\n",
    "            correct += (predicted == labels).sum().item()\n",
    "            val_loss += criterion(outputs, labels).item()\n",
    "\n",
    "    val_loss /= len(val_loader.dataset)\n",
    "    val_losses.append(val_loss)\n",
    "    val_acc = (correct / len(val_loader.dataset)) * 100\n",
    "    val_accuracies.append(val_acc)\n",
    "\n",
    "    # Print training and validation loss, and validation accuracy\n",
    "    print(f\"Epoch {epoch+1}/{num_epochs}, Loss: {train_loss:.4f}, Val Loss: {val_loss:.4f}, Train Acc: {train_acc:.2f}%, Val Acc: {val_acc:.2f}%\")\n",
    "\n",
    "\n"
   ]
  },
  {
   "cell_type": "code",
   "execution_count": 20,
   "id": "b32fd3b4",
   "metadata": {},
   "outputs": [
    {
     "data": {
      "image/png": "[encoded data removed]",
      "text/plain": [
       "<Figure size 864x432 with 2 Axes>"
      ]
     },
     "metadata": {
      "needs_background": "light"
     },
     "output_type": "display_data"
    }
   ],
   "source": [
    "# Plotting the loss and accuracy curves\n",
    "plt.figure(figsize=(12, 6))\n",
    "plt.subplot(1, 2, 1)\n",
    "plt.plot(np.arange(1, num_epochs+1), train_losses, label='Train Loss')\n",
    "plt.plot(np.arange(1, num_epochs+1), val_losses, label='Val Loss')\n",
    "plt.xlabel('Epoch')\n",
    "plt.ylabel('Loss')\n",
    "plt.legend()\n",
    "\n",
    "plt.subplot(1, 2, 2)\n",
    "plt.plot(np.arange(1, num_epochs+1), train_accuracies, label='Train Acc')\n",
    "plt.plot(np.arange(1, num_epochs+1), val_accuracies, label='Val Acc')\n",
    "plt.xlabel('Epoch')\n",
    "plt.ylabel('Accuracy')\n",
    "plt.legend()\n",
    "\n",
    "plt.show()"
   ]
  },
  {
   "cell_type": "code",
   "execution_count": null,
   "id": "6a8c6544",
   "metadata": {},
   "outputs": [],
   "source": []
  },
  {
   "cell_type": "markdown",
   "id": "5b5efeda",
   "metadata": {},
   "source": [
    "## 生成测试结果"
   ]
  },
  {
   "cell_type": "code",
   "execution_count": 22,
   "id": "dfcd1778",
   "metadata": {},
   "outputs": [
    {
     "data": {
      "text/html": [
       "<div>\n",
       "<style scoped>\n",
       "    .dataframe tbody tr th:only-of-type {\n",
       "        vertical-align: middle;\n",
       "    }\n",
       "\n",
       "    .dataframe tbody tr th {\n",
       "        vertical-align: top;\n",
       "    }\n",
       "\n",
       "    .dataframe thead th {\n",
       "        text-align: right;\n",
       "    }\n",
       "</style>\n",
       "<table border=\"1\" class=\"dataframe\">\n",
       "  <thead>\n",
       "    <tr style=\"text-align: right;\">\n",
       "      <th></th>\n",
       "      <th>PhraseId</th>\n",
       "      <th>SentenceId</th>\n",
       "      <th>Phrase</th>\n",
       "    </tr>\n",
       "  </thead>\n",
       "  <tbody>\n",
       "    <tr>\n",
       "      <th>18414</th>\n",
       "      <td>174475</td>\n",
       "      <td>9358</td>\n",
       "      <td>promising material</td>\n",
       "    </tr>\n",
       "    <tr>\n",
       "      <th>40358</th>\n",
       "      <td>196419</td>\n",
       "      <td>10448</td>\n",
       "      <td>is , regrettably ,</td>\n",
       "    </tr>\n",
       "    <tr>\n",
       "      <th>22440</th>\n",
       "      <td>178501</td>\n",
       "      <td>9550</td>\n",
       "      <td>the string of insultingly innocuous</td>\n",
       "    </tr>\n",
       "    <tr>\n",
       "      <th>52356</th>\n",
       "      <td>208417</td>\n",
       "      <td>11087</td>\n",
       "      <td>wraps back around on itself in the kind of ele...</td>\n",
       "    </tr>\n",
       "    <tr>\n",
       "      <th>51498</th>\n",
       "      <td>207559</td>\n",
       "      <td>11038</td>\n",
       "      <td>white-trash</td>\n",
       "    </tr>\n",
       "  </tbody>\n",
       "</table>\n",
       "</div>"
      ],
      "text/plain": [
       "       PhraseId  SentenceId                                             Phrase\n",
       "18414    174475        9358                                 promising material\n",
       "40358    196419       10448                                 is , regrettably ,\n",
       "22440    178501        9550                the string of insultingly innocuous\n",
       "52356    208417       11087  wraps back around on itself in the kind of ele...\n",
       "51498    207559       11038                                        white-trash"
      ]
     },
     "execution_count": 22,
     "metadata": {},
     "output_type": "execute_result"
    }
   ],
   "source": [
    "test = pd.read_csv('test.tsv', sep='\\t')\n",
    "test.sample(5)"
   ]
  },
  {
   "cell_type": "code",
   "execution_count": 23,
   "id": "65bed16b",
   "metadata": {},
   "outputs": [],
   "source": [
    "test['Sentiment'] = 0 # add fake label\n",
    "X_test,y_test = extract_BoW_feat(test, idx2word, word2idx)"
   ]
  },
  {
   "cell_type": "code",
   "execution_count": 24,
   "id": "7a0363da",
   "metadata": {},
   "outputs": [],
   "source": [
    "test_dataset = SentimentDataset(X_test, y_test)\n",
    "batch_size = 32\n",
    "test_loader = DataLoader(test_dataset, batch_size=batch_size)\n",
    "model.eval()\n",
    "all_predicted = []\n",
    "with torch.no_grad():\n",
    "    for inputs, _ in test_loader:\n",
    "        outputs = model(inputs)\n",
    "        _, predicted = torch.max(outputs, 1)\n",
    "        all_predicted.append(predicted.numpy())\n",
    "y_test = np.concatenate(all_predicted)"
   ]
  },
  {
   "cell_type": "code",
   "execution_count": 25,
   "id": "d0e3607e",
   "metadata": {},
   "outputs": [],
   "source": [
    "test['Sentiment']=y_test\n",
    "selected_columns = ['PhraseId', 'Sentiment']\n",
    "test[selected_columns].to_csv('Sentiment_BoW_MLP.csv', index=False)"
   ]
  },
  {
   "cell_type": "code",
   "execution_count": null,
   "id": "e40783cd",
   "metadata": {},
   "outputs": [],
   "source": []
  }
 ],
 "metadata": {
  "kernelspec": {
   "display_name": "Python 3 (ipykernel)",
   "language": "python",
   "name": "python3"
  },
  "language_info": {
   "codemirror_mode": {
    "name": "ipython",
    "version": 3
   },
   "file_extension": ".py",
   "mimetype": "text/x-python",
   "name": "python",
   "nbconvert_exporter": "python",
   "pygments_lexer": "ipython3",
   "version": "3.9.12"
  }
 },
 "nbformat": 4,
 "nbformat_minor": 5
}
