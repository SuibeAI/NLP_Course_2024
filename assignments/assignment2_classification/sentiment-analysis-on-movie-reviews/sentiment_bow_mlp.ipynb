{
 "cells": [
  {
   "cell_type": "code",
   "execution_count": 1,
   "id": "c1b2db7f",
   "metadata": {},
   "outputs": [],
   "source": [
    "import pandas as pd\n",
    "import numpy as np\n",
    "import torch\n",
    "import torch.nn.functional as F\n",
    "from torch.utils.data import Dataset\n",
    "from collections import defaultdict"
   ]
  },
  {
   "cell_type": "markdown",
   "id": "1052ac85",
   "metadata": {},
   "source": [
    "# 短语情感分类\n",
    "\n",
    "对Phrase字段中的文本进行分类，分类结果为\n",
    "\n",
    "- 0 - negative\n",
    "- 1 - somewhat negative\n",
    "- 2 - neutral\n",
    "- 3 - somewhat positive\n",
    "- 4 - positive"
   ]
  },
  {
   "cell_type": "code",
   "execution_count": 2,
   "id": "e7f04ee5",
   "metadata": {},
   "outputs": [
    {
     "data": {
      "text/plain": [
       "2    79582\n",
       "3    32927\n",
       "1    27273\n",
       "4     9206\n",
       "0     7072\n",
       "Name: Sentiment, dtype: int64"
      ]
     },
     "execution_count": 2,
     "metadata": {},
     "output_type": "execute_result"
    }
   ],
   "source": [
    "train = pd.read_csv('train.tsv', sep='\\t')\n",
    "train.Sentiment.value_counts()"
   ]
  },
  {
   "cell_type": "code",
   "execution_count": 3,
   "id": "9292d6d2",
   "metadata": {},
   "outputs": [
    {
     "data": {
      "text/html": [
       "<div>\n",
       "<style scoped>\n",
       "    .dataframe tbody tr th:only-of-type {\n",
       "        vertical-align: middle;\n",
       "    }\n",
       "\n",
       "    .dataframe tbody tr th {\n",
       "        vertical-align: top;\n",
       "    }\n",
       "\n",
       "    .dataframe thead th {\n",
       "        text-align: right;\n",
       "    }\n",
       "</style>\n",
       "<table border=\"1\" class=\"dataframe\">\n",
       "  <thead>\n",
       "    <tr style=\"text-align: right;\">\n",
       "      <th></th>\n",
       "      <th>PhraseId</th>\n",
       "      <th>SentenceId</th>\n",
       "      <th>Phrase</th>\n",
       "      <th>Sentiment</th>\n",
       "    </tr>\n",
       "  </thead>\n",
       "  <tbody>\n",
       "    <tr>\n",
       "      <th>61451</th>\n",
       "      <td>61452</td>\n",
       "      <td>3106</td>\n",
       "      <td>Enticing and often</td>\n",
       "      <td>3</td>\n",
       "    </tr>\n",
       "    <tr>\n",
       "      <th>104420</th>\n",
       "      <td>104421</td>\n",
       "      <td>5510</td>\n",
       "      <td>the heart of the boy</td>\n",
       "      <td>2</td>\n",
       "    </tr>\n",
       "    <tr>\n",
       "      <th>95754</th>\n",
       "      <td>95755</td>\n",
       "      <td>5001</td>\n",
       "      <td>its central figure ,</td>\n",
       "      <td>2</td>\n",
       "    </tr>\n",
       "    <tr>\n",
       "      <th>53777</th>\n",
       "      <td>53778</td>\n",
       "      <td>2670</td>\n",
       "      <td>this new jangle of noise , mayhem and stupidity</td>\n",
       "      <td>0</td>\n",
       "    </tr>\n",
       "    <tr>\n",
       "      <th>109284</th>\n",
       "      <td>109285</td>\n",
       "      <td>5787</td>\n",
       "      <td>riveting documentary .</td>\n",
       "      <td>4</td>\n",
       "    </tr>\n",
       "    <tr>\n",
       "      <th>112663</th>\n",
       "      <td>112664</td>\n",
       "      <td>5982</td>\n",
       "      <td>brought off with considerable wit</td>\n",
       "      <td>4</td>\n",
       "    </tr>\n",
       "    <tr>\n",
       "      <th>17</th>\n",
       "      <td>18</td>\n",
       "      <td>1</td>\n",
       "      <td>what is good for the goose</td>\n",
       "      <td>2</td>\n",
       "    </tr>\n",
       "    <tr>\n",
       "      <th>82674</th>\n",
       "      <td>82675</td>\n",
       "      <td>4269</td>\n",
       "      <td>Not all of the stories work and the ones that ...</td>\n",
       "      <td>0</td>\n",
       "    </tr>\n",
       "    <tr>\n",
       "      <th>33625</th>\n",
       "      <td>33626</td>\n",
       "      <td>1577</td>\n",
       "      <td>expert thriller</td>\n",
       "      <td>4</td>\n",
       "    </tr>\n",
       "    <tr>\n",
       "      <th>19603</th>\n",
       "      <td>19604</td>\n",
       "      <td>861</td>\n",
       "      <td>seen in a while , a meander through worn-out m...</td>\n",
       "      <td>1</td>\n",
       "    </tr>\n",
       "    <tr>\n",
       "      <th>921</th>\n",
       "      <td>922</td>\n",
       "      <td>34</td>\n",
       "      <td>'s very little sense to what 's going on here</td>\n",
       "      <td>1</td>\n",
       "    </tr>\n",
       "    <tr>\n",
       "      <th>79242</th>\n",
       "      <td>79243</td>\n",
       "      <td>4081</td>\n",
       "      <td>listen to extremist name-calling ,</td>\n",
       "      <td>1</td>\n",
       "    </tr>\n",
       "    <tr>\n",
       "      <th>132640</th>\n",
       "      <td>132641</td>\n",
       "      <td>7152</td>\n",
       "      <td>formula -- which is a waste of De Niro , McDor...</td>\n",
       "      <td>1</td>\n",
       "    </tr>\n",
       "    <tr>\n",
       "      <th>78200</th>\n",
       "      <td>78201</td>\n",
       "      <td>4023</td>\n",
       "      <td>105 minutes</td>\n",
       "      <td>2</td>\n",
       "    </tr>\n",
       "    <tr>\n",
       "      <th>116996</th>\n",
       "      <td>116997</td>\n",
       "      <td>6241</td>\n",
       "      <td>loaded with credits like `` Girl in Bar # 3</td>\n",
       "      <td>2</td>\n",
       "    </tr>\n",
       "    <tr>\n",
       "      <th>115158</th>\n",
       "      <td>115159</td>\n",
       "      <td>6134</td>\n",
       "      <td>peaked</td>\n",
       "      <td>3</td>\n",
       "    </tr>\n",
       "    <tr>\n",
       "      <th>47229</th>\n",
       "      <td>47230</td>\n",
       "      <td>2301</td>\n",
       "      <td>selection</td>\n",
       "      <td>2</td>\n",
       "    </tr>\n",
       "    <tr>\n",
       "      <th>84578</th>\n",
       "      <td>84579</td>\n",
       "      <td>4376</td>\n",
       "      <td>A listless sci-fi comedy in which Eddie Murphy...</td>\n",
       "      <td>1</td>\n",
       "    </tr>\n",
       "    <tr>\n",
       "      <th>49489</th>\n",
       "      <td>49490</td>\n",
       "      <td>2422</td>\n",
       "      <td>teenager 's</td>\n",
       "      <td>2</td>\n",
       "    </tr>\n",
       "    <tr>\n",
       "      <th>41451</th>\n",
       "      <td>41452</td>\n",
       "      <td>1993</td>\n",
       "      <td>The dominant feeling is something like nostalg...</td>\n",
       "      <td>2</td>\n",
       "    </tr>\n",
       "  </tbody>\n",
       "</table>\n",
       "</div>"
      ],
      "text/plain": [
       "        PhraseId  SentenceId  \\\n",
       "61451      61452        3106   \n",
       "104420    104421        5510   \n",
       "95754      95755        5001   \n",
       "53777      53778        2670   \n",
       "109284    109285        5787   \n",
       "112663    112664        5982   \n",
       "17            18           1   \n",
       "82674      82675        4269   \n",
       "33625      33626        1577   \n",
       "19603      19604         861   \n",
       "921          922          34   \n",
       "79242      79243        4081   \n",
       "132640    132641        7152   \n",
       "78200      78201        4023   \n",
       "116996    116997        6241   \n",
       "115158    115159        6134   \n",
       "47229      47230        2301   \n",
       "84578      84579        4376   \n",
       "49489      49490        2422   \n",
       "41451      41452        1993   \n",
       "\n",
       "                                                   Phrase  Sentiment  \n",
       "61451                                  Enticing and often          3  \n",
       "104420                               the heart of the boy          2  \n",
       "95754                                its central figure ,          2  \n",
       "53777     this new jangle of noise , mayhem and stupidity          0  \n",
       "109284                             riveting documentary .          4  \n",
       "112663                  brought off with considerable wit          4  \n",
       "17                             what is good for the goose          2  \n",
       "82674   Not all of the stories work and the ones that ...          0  \n",
       "33625                                     expert thriller          4  \n",
       "19603   seen in a while , a meander through worn-out m...          1  \n",
       "921         's very little sense to what 's going on here          1  \n",
       "79242                  listen to extremist name-calling ,          1  \n",
       "132640  formula -- which is a waste of De Niro , McDor...          1  \n",
       "78200                                         105 minutes          2  \n",
       "116996        loaded with credits like `` Girl in Bar # 3          2  \n",
       "115158                                             peaked          3  \n",
       "47229                                           selection          2  \n",
       "84578   A listless sci-fi comedy in which Eddie Murphy...          1  \n",
       "49489                                         teenager 's          2  \n",
       "41451   The dominant feeling is something like nostalg...          2  "
      ]
     },
     "execution_count": 3,
     "metadata": {},
     "output_type": "execute_result"
    }
   ],
   "source": [
    "train.sample(20)"
   ]
  },
  {
   "cell_type": "markdown",
   "id": "001f6825",
   "metadata": {},
   "source": [
    "## 数据预处理\n",
    "1. 统计单词频率并保留频率最高的1000个单词，构建单词到索引的映射，以及构建索引到单词的映射。"
   ]
  },
  {
   "cell_type": "code",
   "execution_count": 4,
   "id": "94cd4f35",
   "metadata": {},
   "outputs": [
    {
     "name": "stdout",
     "output_type": "stream",
     "text": [
      "<UNK>: 2000\n"
     ]
    }
   ],
   "source": [
    "# 使用部分数据\n",
    "# train = train.head(1000)\n",
    "\n",
    "# 创建字典\n",
    "len_list = []\n",
    "word_freq_map = defaultdict(int)\n",
    "for sentence in train.Phrase:\n",
    "    words = sentence.split()\n",
    "    words = [w.lower() for w in words] # 统一为小写\n",
    "    len_list.append(len(words))\n",
    "    for word in words:\n",
    "        word_freq_map[word] += 1\n",
    "\n",
    "word_freq_map = dict(sorted(word_freq_map.items(),\n",
    "                                   key=lambda x: x[1], reverse=True))\n",
    "top_k_words = 2000\n",
    "# 使用列表根据序号查找单词 (特殊词 <UNK> 表示未登录词)\n",
    "idx2word = list(word_freq_map.keys())[:top_k_words] + ['<UNK>'] # \n",
    "# 使用词典根据单词查找序号\n",
    "word2idx = {idx2word[i]:i for i in range(len(idx2word))}\n",
    "print('<UNK>:', word2idx['<UNK>'])"
   ]
  },
  {
   "cell_type": "markdown",
   "id": "92b2bf9a",
   "metadata": {},
   "source": [
    "2. 构建基于Bag-of-Words的数据集"
   ]
  },
  {
   "cell_type": "code",
   "execution_count": 5,
   "id": "6aafae02",
   "metadata": {},
   "outputs": [],
   "source": [
    "# Bag of Words dataset \n",
    "def extract_BoW_feat(df, idx2word, word2idx):\n",
    "    X = []\n",
    "    for sentence in df.Phrase:\n",
    "        x = np.zeros(len(idx2word)) # BoW不需要不考虑<PAD>\n",
    "        words = sentence.split()\n",
    "        words = [w.lower() for w in words]\n",
    "        for w in words:\n",
    "            if w in word2idx:\n",
    "                x[word2idx[w]]+=1\n",
    "            else:\n",
    "                x[word2idx['<UNK>']]+=1\n",
    "        X.append(x)\n",
    "    X = np.array(X)\n",
    "    y = np.array(df.Sentiment)\n",
    "    return X, y"
   ]
  },
  {
   "cell_type": "code",
   "execution_count": 6,
   "id": "bc9c8882",
   "metadata": {},
   "outputs": [],
   "source": [
    "X,y = extract_BoW_feat(train, idx2word, word2idx)"
   ]
  },
  {
   "cell_type": "code",
   "execution_count": 7,
   "id": "2fa05bc3",
   "metadata": {},
   "outputs": [],
   "source": [
    "train_num = int(len(X) * 0.8)\n",
    "X_train = X[:train_num]\n",
    "y_train = y[:train_num]\n",
    "X_val = X[train_num:]\n",
    "y_val = y[train_num:]"
   ]
  },
  {
   "cell_type": "code",
   "execution_count": 8,
   "id": "5f32f996",
   "metadata": {},
   "outputs": [],
   "source": [
    "class SentimentDataset(Dataset):\n",
    "    def __init__(self, X, y):\n",
    "        self.X = torch.tensor(X, dtype=torch.float32)\n",
    "        self.y = torch.tensor(y, dtype=torch.long)\n",
    "\n",
    "    def __len__(self):\n",
    "        return len(self.X)\n",
    "\n",
    "    def __getitem__(self, idx):\n",
    "        return self.X[idx], self.y[idx]"
   ]
  },
  {
   "cell_type": "code",
   "execution_count": 9,
   "id": "b98edb32",
   "metadata": {},
   "outputs": [],
   "source": [
    "# 创建训练与验证数据集\n",
    "train_dataset = SentimentDataset(X_train, y_train)\n",
    "val_dataset = SentimentDataset(X_val, y_val)"
   ]
  },
  {
   "cell_type": "markdown",
   "id": "19bc4a32",
   "metadata": {},
   "source": [
    "## 构建模型"
   ]
  },
  {
   "cell_type": "code",
   "execution_count": 10,
   "id": "29e9de06",
   "metadata": {},
   "outputs": [],
   "source": [
    "import torch\n",
    "import torch.nn as nn\n",
    "import torch.optim as optim\n",
    "from torch.utils.data import DataLoader\n",
    "from sklearn.model_selection import train_test_split\n",
    "\n",
    "# Define the MLP model\n",
    "class MLP(nn.Module):\n",
    "    def __init__(self, input_dim, hid_dim, output_dim):\n",
    "        super(MLP, self).__init__()\n",
    "        self.fc1 = nn.Linear(input_dim, hid_dim)\n",
    "        self.relu = nn.ReLU()\n",
    "        self.fc2 = nn.Linear(hid_dim, output_dim)  # 5 classes for classification\n",
    "\n",
    "    def forward(self, x):\n",
    "        x = self.fc1(x)\n",
    "        x = self.relu(x)\n",
    "        x = self.fc2(x)\n",
    "        x = F.softmax(x, dim=-1)\n",
    "        return x\n",
    "\n"
   ]
  },
  {
   "cell_type": "code",
   "execution_count": 11,
   "id": "804def77",
   "metadata": {},
   "outputs": [],
   "source": [
    "# Create an instance of the MLP model\n",
    "model = MLP(top_k_words+1, 100, 5)\n",
    "\n",
    "# Define the optimizer and loss function\n",
    "optimizer = optim.Adam(model.parameters(), lr=0.001)\n",
    "criterion = nn.CrossEntropyLoss()\n",
    "\n",
    "\n",
    "# Create DataLoader instances for training and validation\n",
    "train_loader = DataLoader(train_dataset, batch_size=32, shuffle=True)\n",
    "val_loader = DataLoader(val_dataset, batch_size=32, shuffle=False)"
   ]
  },
  {
   "cell_type": "markdown",
   "id": "a9ec1215",
   "metadata": {},
   "source": [
    "## 模型训练"
   ]
  },
  {
   "cell_type": "code",
   "execution_count": 12,
   "id": "3f64d494",
   "metadata": {},
   "outputs": [
    {
     "name": "stdout",
     "output_type": "stream",
     "text": [
      "Epoch 1/10, Loss: 1.3497, Val Loss: 1.3588, Train Acc: 55.55%, Val Acc: 54.19%\n",
      "Epoch 2/10, Loss: 1.3213, Val Loss: 1.3391, Train Acc: 58.01%, Val Acc: 55.73%\n",
      "Epoch 3/10, Loss: 1.2863, Val Loss: 1.3247, Train Acc: 61.59%, Val Acc: 57.41%\n",
      "Epoch 4/10, Loss: 1.2671, Val Loss: 1.3195, Train Acc: 63.59%, Val Acc: 57.78%\n",
      "Epoch 5/10, Loss: 1.2512, Val Loss: 1.3194, Train Acc: 65.24%, Val Acc: 57.94%\n",
      "Epoch 6/10, Loss: 1.2395, Val Loss: 1.3208, Train Acc: 66.45%, Val Acc: 57.76%\n",
      "Epoch 7/10, Loss: 1.2309, Val Loss: 1.3236, Train Acc: 67.38%, Val Acc: 57.40%\n",
      "Epoch 8/10, Loss: 1.2236, Val Loss: 1.3245, Train Acc: 68.19%, Val Acc: 57.38%\n",
      "Epoch 9/10, Loss: 1.2168, Val Loss: 1.3235, Train Acc: 68.89%, Val Acc: 57.45%\n",
      "Epoch 10/10, Loss: 1.2109, Val Loss: 1.3251, Train Acc: 69.48%, Val Acc: 57.28%\n"
     ]
    }
   ],
   "source": [
    "import matplotlib.pyplot as plt\n",
    "import numpy as np\n",
    "\n",
    "train_losses = []\n",
    "val_losses = []\n",
    "train_accuracies = []\n",
    "val_accuracies = []\n",
    "\n",
    "# Training loop\n",
    "num_epochs = 10\n",
    "for epoch in range(num_epochs):\n",
    "    model.train()\n",
    "    running_loss = 0.0\n",
    "    train_correct = 0\n",
    "    for inputs, labels in train_loader:\n",
    "        optimizer.zero_grad()\n",
    "        outputs = model(inputs)\n",
    "        _, predicted = torch.max(outputs.data, 1)\n",
    "        train_correct += (predicted == labels).sum().item()\n",
    "        loss = criterion(outputs, labels)\n",
    "        loss.backward()\n",
    "        optimizer.step()\n",
    "        running_loss += loss.item()\n",
    "    train_loss = running_loss / len(train_loader)\n",
    "    train_losses.append(train_loss)\n",
    "    train_acc = (train_correct/len(train_loader.dataset)) * 100\n",
    "    train_accuracies.append(train_acc)\n",
    "\n",
    "    # Validation loop\n",
    "    model.eval()\n",
    "    val_loss = 0.0\n",
    "    correct = 0\n",
    "    with torch.no_grad():\n",
    "        for inputs, labels in val_loader:\n",
    "            outputs = model(inputs)\n",
    "            _, predicted = torch.max(outputs.data, 1)\n",
    "            correct += (predicted == labels).sum().item()\n",
    "            val_loss += criterion(outputs, labels).item()\n",
    "\n",
    "    val_loss /= len(val_loader)\n",
    "    val_losses.append(val_loss)\n",
    "    val_acc = (correct / len(val_loader.dataset)) * 100\n",
    "    val_accuracies.append(val_acc)\n",
    "\n",
    "    # Print training and validation loss, and validation accuracy\n",
    "    print(f\"Epoch {epoch+1}/{num_epochs}, Loss: {train_loss:.4f}, Val Loss: {val_loss:.4f}, Train Acc: {train_acc:.2f}%, Val Acc: {val_acc:.2f}%\")\n",
    "\n",
    "\n"
   ]
  },
  {
   "cell_type": "code",
   "execution_count": 13,
   "id": "b32fd3b4",
   "metadata": {},
   "outputs": [
    {
     "data": {
      "image/png": "[encoded data removed]",
      "text/plain": [
       "<Figure size 864x432 with 2 Axes>"
      ]
     },
     "metadata": {
      "needs_background": "light"
     },
     "output_type": "display_data"
    }
   ],
   "source": [
    "# Plotting the loss and accuracy curves\n",
    "plt.figure(figsize=(12, 6))\n",
    "plt.subplot(1, 2, 1)\n",
    "plt.plot(np.arange(1, num_epochs+1), train_losses, label='Train Loss')\n",
    "plt.plot(np.arange(1, num_epochs+1), val_losses, label='Val Loss')\n",
    "plt.xlabel('Epoch')\n",
    "plt.ylabel('Loss')\n",
    "plt.legend()\n",
    "\n",
    "plt.subplot(1, 2, 2)\n",
    "plt.plot(np.arange(1, num_epochs+1), train_accuracies, label='Train Acc')\n",
    "plt.plot(np.arange(1, num_epochs+1), val_accuracies, label='Val Acc')\n",
    "plt.xlabel('Epoch')\n",
    "plt.ylabel('Accuracy')\n",
    "plt.legend()\n",
    "\n",
    "plt.show()"
   ]
  },
  {
   "cell_type": "markdown",
   "id": "5b5efeda",
   "metadata": {},
   "source": [
    "## 生成测试结果"
   ]
  },
  {
   "cell_type": "code",
   "execution_count": 14,
   "id": "dfcd1778",
   "metadata": {},
   "outputs": [
    {
     "data": {
      "text/html": [
       "<div>\n",
       "<style scoped>\n",
       "    .dataframe tbody tr th:only-of-type {\n",
       "        vertical-align: middle;\n",
       "    }\n",
       "\n",
       "    .dataframe tbody tr th {\n",
       "        vertical-align: top;\n",
       "    }\n",
       "\n",
       "    .dataframe thead th {\n",
       "        text-align: right;\n",
       "    }\n",
       "</style>\n",
       "<table border=\"1\" class=\"dataframe\">\n",
       "  <thead>\n",
       "    <tr style=\"text-align: right;\">\n",
       "      <th></th>\n",
       "      <th>PhraseId</th>\n",
       "      <th>SentenceId</th>\n",
       "      <th>Phrase</th>\n",
       "    </tr>\n",
       "  </thead>\n",
       "  <tbody>\n",
       "    <tr>\n",
       "      <th>65873</th>\n",
       "      <td>221934</td>\n",
       "      <td>11828</td>\n",
       "      <td>sand</td>\n",
       "    </tr>\n",
       "    <tr>\n",
       "      <th>59660</th>\n",
       "      <td>215721</td>\n",
       "      <td>11493</td>\n",
       "      <td>gazing out windows</td>\n",
       "    </tr>\n",
       "    <tr>\n",
       "      <th>63592</th>\n",
       "      <td>219653</td>\n",
       "      <td>11704</td>\n",
       "      <td>Egoyan 's</td>\n",
       "    </tr>\n",
       "    <tr>\n",
       "      <th>65933</th>\n",
       "      <td>221994</td>\n",
       "      <td>11833</td>\n",
       "      <td>fu pictures</td>\n",
       "    </tr>\n",
       "    <tr>\n",
       "      <th>37018</th>\n",
       "      <td>193079</td>\n",
       "      <td>10270</td>\n",
       "      <td>wo n't stand the test of time</td>\n",
       "    </tr>\n",
       "  </tbody>\n",
       "</table>\n",
       "</div>"
      ],
      "text/plain": [
       "       PhraseId  SentenceId                         Phrase\n",
       "65873    221934       11828                           sand\n",
       "59660    215721       11493             gazing out windows\n",
       "63592    219653       11704                      Egoyan 's\n",
       "65933    221994       11833                    fu pictures\n",
       "37018    193079       10270  wo n't stand the test of time"
      ]
     },
     "execution_count": 14,
     "metadata": {},
     "output_type": "execute_result"
    }
   ],
   "source": [
    "test = pd.read_csv('test.tsv', sep='\\t')\n",
    "test.sample(5)"
   ]
  },
  {
   "cell_type": "code",
   "execution_count": 15,
   "id": "65bed16b",
   "metadata": {},
   "outputs": [],
   "source": [
    "test['Sentiment'] = 0 # add fake label\n",
    "X_test,y_test = extract_BoW_feat(test, idx2word, word2idx)"
   ]
  },
  {
   "cell_type": "code",
   "execution_count": 16,
   "id": "7a0363da",
   "metadata": {},
   "outputs": [],
   "source": [
    "test_dataset = SentimentDataset(X_test, y_test)\n",
    "batch_size = 32\n",
    "test_loader = DataLoader(test_dataset, batch_size=batch_size)\n",
    "model.eval()\n",
    "all_predicted = []\n",
    "with torch.no_grad():\n",
    "    for inputs, _ in test_loader:\n",
    "        outputs = model(inputs)\n",
    "        _, predicted = torch.max(outputs, 1)\n",
    "        all_predicted.append(predicted.numpy())\n",
    "y_test = np.concatenate(all_predicted)"
   ]
  },
  {
   "cell_type": "code",
   "execution_count": 17,
   "id": "d0e3607e",
   "metadata": {},
   "outputs": [],
   "source": [
    "test['Sentiment']=y_test\n",
    "selected_columns = ['PhraseId', 'Sentiment']\n",
    "test[selected_columns].to_csv('Sentiment_BoW_MLP.csv', index=False)"
   ]
  },
  {
   "cell_type": "code",
   "execution_count": null,
   "id": "e40783cd",
   "metadata": {},
   "outputs": [],
   "source": []
  }
 ],
 "metadata": {
  "kernelspec": {
   "display_name": "Python 3 (ipykernel)",
   "language": "python",
   "name": "python3"
  },
  "language_info": {
   "codemirror_mode": {
    "name": "ipython",
    "version": 3
   },
   "file_extension": ".py",
   "mimetype": "text/x-python",
   "name": "python",
   "nbconvert_exporter": "python",
   "pygments_lexer": "ipython3",
   "version": "3.9.12"
  }
 },
 "nbformat": 4,
 "nbformat_minor": 5
}
