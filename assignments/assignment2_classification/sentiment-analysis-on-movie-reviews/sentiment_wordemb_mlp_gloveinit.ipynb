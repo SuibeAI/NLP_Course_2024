{
 "cells": [
  {
   "cell_type": "code",
   "execution_count": 1,
   "id": "c1b2db7f",
   "metadata": {},
   "outputs": [],
   "source": [
    "import pandas as pd\n",
    "import numpy as np\n",
    "import torch\n",
    "import torch.nn.functional as F\n",
    "from torch.utils.data import Dataset\n",
    "from collections import defaultdict"
   ]
  },
  {
   "cell_type": "markdown",
   "id": "1052ac85",
   "metadata": {},
   "source": [
    "# 短语情感分类\n",
    "\n",
    "对Phrase字段中的文本进行分类，分类结果为\n",
    "\n",
    "- 0 - negative\n",
    "- 1 - somewhat negative\n",
    "- 2 - neutral\n",
    "- 3 - somewhat positive\n",
    "- 4 - positive"
   ]
  },
  {
   "cell_type": "code",
   "execution_count": 2,
   "id": "e7f04ee5",
   "metadata": {},
   "outputs": [
    {
     "data": {
      "text/plain": [
       "2    79582\n",
       "3    32927\n",
       "1    27273\n",
       "4     9206\n",
       "0     7072\n",
       "Name: Sentiment, dtype: int64"
      ]
     },
     "execution_count": 2,
     "metadata": {},
     "output_type": "execute_result"
    }
   ],
   "source": [
    "train = pd.read_csv('train.tsv', sep='\\t')\n",
    "train.Sentiment.value_counts()"
   ]
  },
  {
   "cell_type": "code",
   "execution_count": 3,
   "id": "9292d6d2",
   "metadata": {},
   "outputs": [
    {
     "data": {
      "text/html": [
       "<div>\n",
       "<style scoped>\n",
       "    .dataframe tbody tr th:only-of-type {\n",
       "        vertical-align: middle;\n",
       "    }\n",
       "\n",
       "    .dataframe tbody tr th {\n",
       "        vertical-align: top;\n",
       "    }\n",
       "\n",
       "    .dataframe thead th {\n",
       "        text-align: right;\n",
       "    }\n",
       "</style>\n",
       "<table border=\"1\" class=\"dataframe\">\n",
       "  <thead>\n",
       "    <tr style=\"text-align: right;\">\n",
       "      <th></th>\n",
       "      <th>PhraseId</th>\n",
       "      <th>SentenceId</th>\n",
       "      <th>Phrase</th>\n",
       "      <th>Sentiment</th>\n",
       "    </tr>\n",
       "  </thead>\n",
       "  <tbody>\n",
       "    <tr>\n",
       "      <th>49588</th>\n",
       "      <td>49589</td>\n",
       "      <td>2428</td>\n",
       "      <td>simple but absorbing</td>\n",
       "      <td>3</td>\n",
       "    </tr>\n",
       "    <tr>\n",
       "      <th>119667</th>\n",
       "      <td>119668</td>\n",
       "      <td>6400</td>\n",
       "      <td>slapping extreme humor</td>\n",
       "      <td>3</td>\n",
       "    </tr>\n",
       "    <tr>\n",
       "      <th>60788</th>\n",
       "      <td>60789</td>\n",
       "      <td>3069</td>\n",
       "      <td>insignificant</td>\n",
       "      <td>1</td>\n",
       "    </tr>\n",
       "    <tr>\n",
       "      <th>130946</th>\n",
       "      <td>130947</td>\n",
       "      <td>7057</td>\n",
       "      <td>tortured , dull</td>\n",
       "      <td>1</td>\n",
       "    </tr>\n",
       "    <tr>\n",
       "      <th>47009</th>\n",
       "      <td>47010</td>\n",
       "      <td>2291</td>\n",
       "      <td>you think you are making sense of it</td>\n",
       "      <td>2</td>\n",
       "    </tr>\n",
       "    <tr>\n",
       "      <th>146972</th>\n",
       "      <td>146973</td>\n",
       "      <td>7999</td>\n",
       "      <td>any sexual relationship</td>\n",
       "      <td>2</td>\n",
       "    </tr>\n",
       "    <tr>\n",
       "      <th>97893</th>\n",
       "      <td>97894</td>\n",
       "      <td>5126</td>\n",
       "      <td>trying simply to out-shock , out-outrage or ou...</td>\n",
       "      <td>0</td>\n",
       "    </tr>\n",
       "    <tr>\n",
       "      <th>101433</th>\n",
       "      <td>101434</td>\n",
       "      <td>5334</td>\n",
       "      <td>lost twenty-first century America</td>\n",
       "      <td>2</td>\n",
       "    </tr>\n",
       "    <tr>\n",
       "      <th>54795</th>\n",
       "      <td>54796</td>\n",
       "      <td>2728</td>\n",
       "      <td>simple and</td>\n",
       "      <td>2</td>\n",
       "    </tr>\n",
       "    <tr>\n",
       "      <th>99126</th>\n",
       "      <td>99127</td>\n",
       "      <td>5199</td>\n",
       "      <td>carries Arnold</td>\n",
       "      <td>2</td>\n",
       "    </tr>\n",
       "    <tr>\n",
       "      <th>145131</th>\n",
       "      <td>145132</td>\n",
       "      <td>7885</td>\n",
       "      <td>cast and well</td>\n",
       "      <td>2</td>\n",
       "    </tr>\n",
       "    <tr>\n",
       "      <th>82457</th>\n",
       "      <td>82458</td>\n",
       "      <td>4257</td>\n",
       "      <td>exists , and does so with an artistry that als...</td>\n",
       "      <td>3</td>\n",
       "    </tr>\n",
       "    <tr>\n",
       "      <th>106168</th>\n",
       "      <td>106169</td>\n",
       "      <td>5607</td>\n",
       "      <td>An affectionately goofy satire that 's unafrai...</td>\n",
       "      <td>3</td>\n",
       "    </tr>\n",
       "    <tr>\n",
       "      <th>126344</th>\n",
       "      <td>126345</td>\n",
       "      <td>6792</td>\n",
       "      <td>house pretension .</td>\n",
       "      <td>2</td>\n",
       "    </tr>\n",
       "    <tr>\n",
       "      <th>6460</th>\n",
       "      <td>6461</td>\n",
       "      <td>256</td>\n",
       "      <td>musings and philosophy</td>\n",
       "      <td>2</td>\n",
       "    </tr>\n",
       "    <tr>\n",
       "      <th>98277</th>\n",
       "      <td>98278</td>\n",
       "      <td>5151</td>\n",
       "      <td>Her fans walked out muttering words like `` ho...</td>\n",
       "      <td>0</td>\n",
       "    </tr>\n",
       "    <tr>\n",
       "      <th>57801</th>\n",
       "      <td>57802</td>\n",
       "      <td>2912</td>\n",
       "      <td>to lend credibility to this strange scenario</td>\n",
       "      <td>2</td>\n",
       "    </tr>\n",
       "    <tr>\n",
       "      <th>150122</th>\n",
       "      <td>150123</td>\n",
       "      <td>8177</td>\n",
       "      <td>the awkwardness that results from adhering to ...</td>\n",
       "      <td>2</td>\n",
       "    </tr>\n",
       "    <tr>\n",
       "      <th>59037</th>\n",
       "      <td>59038</td>\n",
       "      <td>2979</td>\n",
       "      <td>'m not saying that Ice Age does n't have some ...</td>\n",
       "      <td>2</td>\n",
       "    </tr>\n",
       "    <tr>\n",
       "      <th>46498</th>\n",
       "      <td>46499</td>\n",
       "      <td>2261</td>\n",
       "      <td>It 's hard to imagine that even very small chi...</td>\n",
       "      <td>0</td>\n",
       "    </tr>\n",
       "  </tbody>\n",
       "</table>\n",
       "</div>"
      ],
      "text/plain": [
       "        PhraseId  SentenceId  \\\n",
       "49588      49589        2428   \n",
       "119667    119668        6400   \n",
       "60788      60789        3069   \n",
       "130946    130947        7057   \n",
       "47009      47010        2291   \n",
       "146972    146973        7999   \n",
       "97893      97894        5126   \n",
       "101433    101434        5334   \n",
       "54795      54796        2728   \n",
       "99126      99127        5199   \n",
       "145131    145132        7885   \n",
       "82457      82458        4257   \n",
       "106168    106169        5607   \n",
       "126344    126345        6792   \n",
       "6460        6461         256   \n",
       "98277      98278        5151   \n",
       "57801      57802        2912   \n",
       "150122    150123        8177   \n",
       "59037      59038        2979   \n",
       "46498      46499        2261   \n",
       "\n",
       "                                                   Phrase  Sentiment  \n",
       "49588                                simple but absorbing          3  \n",
       "119667                             slapping extreme humor          3  \n",
       "60788                                       insignificant          1  \n",
       "130946                                    tortured , dull          1  \n",
       "47009                you think you are making sense of it          2  \n",
       "146972                            any sexual relationship          2  \n",
       "97893   trying simply to out-shock , out-outrage or ou...          0  \n",
       "101433                  lost twenty-first century America          2  \n",
       "54795                                          simple and          2  \n",
       "99126                                      carries Arnold          2  \n",
       "145131                                      cast and well          2  \n",
       "82457   exists , and does so with an artistry that als...          3  \n",
       "106168  An affectionately goofy satire that 's unafrai...          3  \n",
       "126344                                 house pretension .          2  \n",
       "6460                               musings and philosophy          2  \n",
       "98277   Her fans walked out muttering words like `` ho...          0  \n",
       "57801        to lend credibility to this strange scenario          2  \n",
       "150122  the awkwardness that results from adhering to ...          2  \n",
       "59037   'm not saying that Ice Age does n't have some ...          2  \n",
       "46498   It 's hard to imagine that even very small chi...          0  "
      ]
     },
     "execution_count": 3,
     "metadata": {},
     "output_type": "execute_result"
    }
   ],
   "source": [
    "train.sample(20)"
   ]
  },
  {
   "cell_type": "markdown",
   "id": "001f6825",
   "metadata": {},
   "source": [
    "## 数据预处理\n",
    "1. 统计单词频率并保留频率最高的1000个单词，构建单词到索引的映射，以及构建索引到单词的映射。"
   ]
  },
  {
   "cell_type": "code",
   "execution_count": 4,
   "id": "94cd4f35",
   "metadata": {},
   "outputs": [
    {
     "name": "stdout",
     "output_type": "stream",
     "text": [
      "<UNK>: 16531\n"
     ]
    }
   ],
   "source": [
    "# 使用部分数据\n",
    "# train = train.head(1000)\n",
    "\n",
    "# 创建字典\n",
    "len_list = []\n",
    "word_freq_map = defaultdict(int)\n",
    "for sentence in train.Phrase:\n",
    "    words = sentence.split()\n",
    "    words = [w.lower() for w in words] # 统一为小写\n",
    "    len_list.append(len(words))\n",
    "    for word in words:\n",
    "        word_freq_map[word] += 1\n",
    "\n",
    "word_freq_map = dict(sorted(word_freq_map.items(),\n",
    "                                   key=lambda x: x[1], reverse=True))\n",
    "top_k_words = 100000\n",
    "# 使用列表根据序号查找单词 (特殊词 <UNK> 表示未登录词)\n",
    "idx2word = list(word_freq_map.keys())[:top_k_words] + ['<UNK>', '<PAD>'] # \n",
    "# 使用词典根据单词查找序号\n",
    "word2idx = {idx2word[i]:i for i in range(len(idx2word))}\n",
    "print('<UNK>:', word2idx['<UNK>'])"
   ]
  },
  {
   "cell_type": "markdown",
   "id": "92b2bf9a",
   "metadata": {},
   "source": [
    "2. 构建基于Bag-of-Words的数据集"
   ]
  },
  {
   "cell_type": "code",
   "execution_count": 5,
   "id": "6aafae02",
   "metadata": {},
   "outputs": [],
   "source": [
    "# Bag of Words dataset \n",
    "def extract_word_index_feat(df, idx2word, word2idx, max_len=40):\n",
    "    X = []\n",
    "    for sentence in df.Phrase:\n",
    "        x = np.ones(max_len,dtype=np.int64)*word2idx['<PAD>'] # 默认全部为填充词<PAD>\n",
    "        words = sentence.split()\n",
    "        words = [w.lower() for w in words][:max_len]\n",
    "        for i,w in enumerate(words):\n",
    "            if w in word2idx:\n",
    "                x[i]=word2idx[w]\n",
    "            else:\n",
    "                x[i]=word2idx['<UNK>']\n",
    "        X.append(x)\n",
    "    X = np.array(X)\n",
    "    y = np.array(df.Sentiment)\n",
    "    return X, y"
   ]
  },
  {
   "cell_type": "code",
   "execution_count": 6,
   "id": "bc9c8882",
   "metadata": {},
   "outputs": [],
   "source": [
    "X,y = extract_word_index_feat(train, idx2word, word2idx)"
   ]
  },
  {
   "cell_type": "code",
   "execution_count": 7,
   "id": "2fa05bc3",
   "metadata": {},
   "outputs": [],
   "source": [
    "train_num = int(len(X) * 0.8)\n",
    "X_train = X[:train_num]\n",
    "y_train = y[:train_num]\n",
    "X_val = X[train_num:]\n",
    "y_val = y[train_num:]"
   ]
  },
  {
   "cell_type": "code",
   "execution_count": 8,
   "id": "5f32f996",
   "metadata": {},
   "outputs": [],
   "source": [
    "class SentimentDataset(Dataset):\n",
    "    def __init__(self, X, y):\n",
    "        self.X = torch.tensor(X, dtype=torch.long)\n",
    "        self.y = torch.tensor(y, dtype=torch.long)\n",
    "\n",
    "    def __len__(self):\n",
    "        return len(self.X)\n",
    "\n",
    "    def __getitem__(self, idx):\n",
    "        return self.X[idx], self.y[idx]"
   ]
  },
  {
   "cell_type": "code",
   "execution_count": 9,
   "id": "b98edb32",
   "metadata": {},
   "outputs": [],
   "source": [
    "# 创建训练与验证数据集\n",
    "train_dataset = SentimentDataset(X_train, y_train)\n",
    "val_dataset = SentimentDataset(X_val, y_val)"
   ]
  },
  {
   "cell_type": "markdown",
   "id": "19bc4a32",
   "metadata": {},
   "source": [
    "## 构建模型"
   ]
  },
  {
   "cell_type": "code",
   "execution_count": 10,
   "id": "29e9de06",
   "metadata": {},
   "outputs": [],
   "source": [
    "import torch\n",
    "import torch.nn as nn\n",
    "import torch.optim as optim\n",
    "import torch.nn.functional as F\n",
    "from torch.utils.data import DataLoader\n",
    "from sklearn.model_selection import train_test_split\n",
    "import numpy as np\n",
    "\n",
    "# Load GloVe embeddings\n",
    "def load_glove_embeddings(file_path):\n",
    "    embeddings_index = {}\n",
    "    with open(file_path, 'r', encoding='utf-8') as f:\n",
    "        for line in f:\n",
    "            values = line.strip().split(' ')\n",
    "            word = values[0]\n",
    "            coefs = np.asarray(values[1:], dtype='float32')\n",
    "            embeddings_index[word] = coefs\n",
    "    return embeddings_index\n",
    "\n",
    "# Define the MLP model\n",
    "class MLP(nn.Module):\n",
    "    def __init__(self, input_dim, hid_dim, output_dim, vocab_size, embedding_dim, glove_file_path, idx2word):\n",
    "        super(MLP, self).__init__()\n",
    "        self.embedding = nn.Embedding(vocab_size, embedding_dim)\n",
    "        self.flatten = nn.Flatten()\n",
    "        self.fc1 = nn.Linear(embedding_dim * input_dim, hid_dim)\n",
    "        self.relu = nn.ReLU()\n",
    "        self.fc2 = nn.Linear(hid_dim, output_dim)  \n",
    "\n",
    "        # Initialize the embedding layer with pre-trained GloVe embeddings\n",
    "        glove_embeddings = load_glove_embeddings(glove_file_path)\n",
    "        weight_matrix = np.zeros((vocab_size, embedding_dim))\n",
    "        for i, word in enumerate(idx2word):\n",
    "            if word in glove_embeddings:\n",
    "                weight_matrix[i] = glove_embeddings[word]\n",
    "        self.embedding.weight = nn.Parameter(torch.tensor(weight_matrix, dtype=torch.float32))\n",
    "\n",
    "    def forward(self, x):\n",
    "        x = self.embedding(x)\n",
    "        x = self.flatten(x)\n",
    "        x = self.fc1(x)\n",
    "        x = self.relu(x)\n",
    "        x = self.fc2(x)\n",
    "        x = F.softmax(x, dim=-1)\n",
    "        return x\n"
   ]
  },
  {
   "cell_type": "code",
   "execution_count": 12,
   "id": "804def77",
   "metadata": {},
   "outputs": [],
   "source": [
    "# Create an instance of the MLP model\n",
    "model = MLP(input_dim=40, hid_dim=100, output_dim=5, \n",
    "            vocab_size=len(idx2word), embedding_dim=50, \n",
    "            glove_file_path='../../assignment1_glove/glove.6B.50d.txt', idx2word=idx2word)\n",
    "\n",
    "# Define the optimizer and loss function\n",
    "optimizer = optim.Adam(model.parameters(), lr=0.001)\n",
    "criterion = nn.CrossEntropyLoss()\n",
    "\n",
    "\n",
    "# Create DataLoader instances for training and validation\n",
    "train_loader = DataLoader(train_dataset, batch_size=32, shuffle=True)\n",
    "val_loader = DataLoader(val_dataset, batch_size=32, shuffle=False)"
   ]
  },
  {
   "cell_type": "markdown",
   "id": "a9ec1215",
   "metadata": {},
   "source": [
    "## 模型训练"
   ]
  },
  {
   "cell_type": "code",
   "execution_count": 13,
   "id": "3f64d494",
   "metadata": {},
   "outputs": [
    {
     "name": "stdout",
     "output_type": "stream",
     "text": [
      "Epoch 1/10, Loss: 1.3129, Val Loss: 1.3138, Train Acc: 58.45%, Val Acc: 58.32%\n",
      "Epoch 2/10, Loss: 1.2530, Val Loss: 1.3081, Train Acc: 64.81%, Val Acc: 58.97%\n",
      "Epoch 3/10, Loss: 1.2246, Val Loss: 1.3069, Train Acc: 67.77%, Val Acc: 59.19%\n",
      "Epoch 4/10, Loss: 1.2044, Val Loss: 1.3086, Train Acc: 69.90%, Val Acc: 59.09%\n",
      "Epoch 5/10, Loss: 1.1905, Val Loss: 1.3116, Train Acc: 71.33%, Val Acc: 58.85%\n",
      "Epoch 6/10, Loss: 1.1784, Val Loss: 1.3127, Train Acc: 72.57%, Val Acc: 58.79%\n",
      "Epoch 7/10, Loss: 1.1703, Val Loss: 1.3174, Train Acc: 73.39%, Val Acc: 58.30%\n",
      "Epoch 8/10, Loss: 1.1636, Val Loss: 1.3175, Train Acc: 74.07%, Val Acc: 58.25%\n",
      "Epoch 9/10, Loss: 1.1583, Val Loss: 1.3176, Train Acc: 74.58%, Val Acc: 58.32%\n",
      "Epoch 10/10, Loss: 1.1538, Val Loss: 1.3172, Train Acc: 75.05%, Val Acc: 58.40%\n"
     ]
    }
   ],
   "source": [
    "import matplotlib.pyplot as plt\n",
    "import numpy as np\n",
    "\n",
    "train_losses = []\n",
    "val_losses = []\n",
    "train_accuracies = []\n",
    "val_accuracies = []\n",
    "\n",
    "# Training loop\n",
    "num_epochs = 10\n",
    "for epoch in range(num_epochs):\n",
    "    model.train()\n",
    "    running_loss = 0.0\n",
    "    train_correct = 0\n",
    "    for inputs, labels in train_loader:\n",
    "        optimizer.zero_grad()\n",
    "        outputs = model(inputs)\n",
    "        _, predicted = torch.max(outputs.data, 1)\n",
    "        train_correct += (predicted == labels).sum().item()\n",
    "        loss = criterion(outputs, labels)\n",
    "        loss.backward()\n",
    "        optimizer.step()\n",
    "        running_loss += loss.item()\n",
    "    train_loss = running_loss / len(train_loader)\n",
    "    train_losses.append(train_loss)\n",
    "    train_acc = (train_correct/len(train_loader.dataset)) * 100\n",
    "    train_accuracies.append(train_acc)\n",
    "\n",
    "    # Validation loop\n",
    "    model.eval()\n",
    "    val_loss = 0.0\n",
    "    correct = 0\n",
    "    with torch.no_grad():\n",
    "        for inputs, labels in val_loader:\n",
    "            outputs = model(inputs)\n",
    "            _, predicted = torch.max(outputs.data, 1)\n",
    "            correct += (predicted == labels).sum().item()\n",
    "            val_loss += criterion(outputs, labels).item()\n",
    "\n",
    "    val_loss /= len(val_loader)\n",
    "    val_losses.append(val_loss)\n",
    "    val_acc = (correct / len(val_loader.dataset)) * 100\n",
    "    val_accuracies.append(val_acc)\n",
    "\n",
    "    # Print training and validation loss, and validation accuracy\n",
    "    print(f\"Epoch {epoch+1}/{num_epochs}, Loss: {train_loss:.4f}, Val Loss: {val_loss:.4f}, Train Acc: {train_acc:.2f}%, Val Acc: {val_acc:.2f}%\")\n",
    "\n",
    "\n"
   ]
  },
  {
   "cell_type": "code",
   "execution_count": 14,
   "id": "1962ac0c",
   "metadata": {},
   "outputs": [
    {
     "data": {
      "image/png": "[encoded data removed]",
      "text/plain": [
       "<Figure size 864x432 with 2 Axes>"
      ]
     },
     "metadata": {
      "needs_background": "light"
     },
     "output_type": "display_data"
    }
   ],
   "source": [
    "# Plotting the loss and accuracy curves\n",
    "plt.figure(figsize=(12, 6))\n",
    "plt.subplot(1, 2, 1)\n",
    "plt.plot(np.arange(1, num_epochs+1), train_losses, label='Train Loss')\n",
    "plt.plot(np.arange(1, num_epochs+1), val_losses, label='Val Loss')\n",
    "plt.xlabel('Epoch')\n",
    "plt.ylabel('Loss')\n",
    "plt.legend()\n",
    "\n",
    "plt.subplot(1, 2, 2)\n",
    "plt.plot(np.arange(1, num_epochs+1), train_accuracies, label='Train Acc')\n",
    "plt.plot(np.arange(1, num_epochs+1), val_accuracies, label='Val Acc')\n",
    "plt.xlabel('Epoch')\n",
    "plt.ylabel('Accuracy')\n",
    "plt.legend()\n",
    "\n",
    "plt.show()"
   ]
  },
  {
   "cell_type": "markdown",
   "id": "5b5efeda",
   "metadata": {},
   "source": [
    "## 生成测试结果"
   ]
  },
  {
   "cell_type": "code",
   "execution_count": null,
   "id": "dfcd1778",
   "metadata": {},
   "outputs": [],
   "source": [
    "test = pd.read_csv('test.tsv', sep='\\t')\n",
    "test.sample(5)"
   ]
  },
  {
   "cell_type": "code",
   "execution_count": null,
   "id": "65bed16b",
   "metadata": {},
   "outputs": [],
   "source": [
    "test['Sentiment'] = 0 # add fake label\n",
    "X_test,y_test = extract_word_index_feat(test, idx2word, word2idx)"
   ]
  },
  {
   "cell_type": "code",
   "execution_count": null,
   "id": "7a0363da",
   "metadata": {},
   "outputs": [],
   "source": [
    "test_dataset = SentimentDataset(X_test, y_test)\n",
    "batch_size = 32\n",
    "test_loader = DataLoader(test_dataset, batch_size=batch_size)\n",
    "model.eval()\n",
    "all_predicted = []\n",
    "with torch.no_grad():\n",
    "    for inputs, _ in test_loader:\n",
    "        outputs = model(inputs)\n",
    "        _, predicted = torch.max(outputs, 1)\n",
    "        all_predicted.append(predicted.numpy())\n",
    "y_test = np.concatenate(all_predicted)"
   ]
  },
  {
   "cell_type": "code",
   "execution_count": null,
   "id": "d0e3607e",
   "metadata": {},
   "outputs": [],
   "source": [
    "test['Sentiment']=y_test\n",
    "selected_columns = ['PhraseId', 'Sentiment']\n",
    "test[selected_columns].to_csv('Sentiment_wordemb_MLP_gloveinit.csv', index=False)"
   ]
  },
  {
   "cell_type": "code",
   "execution_count": null,
   "id": "e40783cd",
   "metadata": {},
   "outputs": [],
   "source": [
    "!ls"
   ]
  },
  {
   "cell_type": "code",
   "execution_count": null,
   "id": "fd523517",
   "metadata": {},
   "outputs": [],
   "source": []
  },
  {
   "cell_type": "code",
   "execution_count": null,
   "id": "f01daa72",
   "metadata": {},
   "outputs": [],
   "source": []
  }
 ],
 "metadata": {
  "kernelspec": {
   "display_name": "Python 3 (ipykernel)",
   "language": "python",
   "name": "python3"
  },
  "language_info": {
   "codemirror_mode": {
    "name": "ipython",
    "version": 3
   },
   "file_extension": ".py",
   "mimetype": "text/x-python",
   "name": "python",
   "nbconvert_exporter": "python",
   "pygments_lexer": "ipython3",
   "version": "3.9.12"
  }
 },
 "nbformat": 4,
 "nbformat_minor": 5
}
