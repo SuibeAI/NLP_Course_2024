{
 "cells": [
  {
   "cell_type": "code",
   "execution_count": 1,
   "id": "c1b2db7f",
   "metadata": {},
   "outputs": [],
   "source": [
    "import pandas as pd\n",
    "import numpy as np\n",
    "import torch\n",
    "import torch.nn.functional as F\n",
    "from torch.utils.data import Dataset\n",
    "from collections import defaultdict"
   ]
  },
  {
   "cell_type": "markdown",
   "id": "1052ac85",
   "metadata": {},
   "source": [
    "# 短语情感分类\n",
    "\n",
    "对Phrase字段中的文本进行分类，分类结果为\n",
    "\n",
    "- 0 - negative\n",
    "- 1 - somewhat negative\n",
    "- 2 - neutral\n",
    "- 3 - somewhat positive\n",
    "- 4 - positive"
   ]
  },
  {
   "cell_type": "code",
   "execution_count": 2,
   "id": "e7f04ee5",
   "metadata": {},
   "outputs": [
    {
     "data": {
      "text/plain": [
       "2    79582\n",
       "3    32927\n",
       "1    27273\n",
       "4     9206\n",
       "0     7072\n",
       "Name: Sentiment, dtype: int64"
      ]
     },
     "execution_count": 2,
     "metadata": {},
     "output_type": "execute_result"
    }
   ],
   "source": [
    "train = pd.read_csv('train.tsv', sep='\\t')\n",
    "train.Sentiment.value_counts()"
   ]
  },
  {
   "cell_type": "code",
   "execution_count": 3,
   "id": "9292d6d2",
   "metadata": {},
   "outputs": [
    {
     "data": {
      "text/html": [
       "<div>\n",
       "<style scoped>\n",
       "    .dataframe tbody tr th:only-of-type {\n",
       "        vertical-align: middle;\n",
       "    }\n",
       "\n",
       "    .dataframe tbody tr th {\n",
       "        vertical-align: top;\n",
       "    }\n",
       "\n",
       "    .dataframe thead th {\n",
       "        text-align: right;\n",
       "    }\n",
       "</style>\n",
       "<table border=\"1\" class=\"dataframe\">\n",
       "  <thead>\n",
       "    <tr style=\"text-align: right;\">\n",
       "      <th></th>\n",
       "      <th>PhraseId</th>\n",
       "      <th>SentenceId</th>\n",
       "      <th>Phrase</th>\n",
       "      <th>Sentiment</th>\n",
       "    </tr>\n",
       "  </thead>\n",
       "  <tbody>\n",
       "    <tr>\n",
       "      <th>90008</th>\n",
       "      <td>90009</td>\n",
       "      <td>4683</td>\n",
       "      <td>selecting interview subjects who will construc...</td>\n",
       "      <td>1</td>\n",
       "    </tr>\n",
       "    <tr>\n",
       "      <th>129034</th>\n",
       "      <td>129035</td>\n",
       "      <td>6940</td>\n",
       "      <td>nearly as downbeat</td>\n",
       "      <td>2</td>\n",
       "    </tr>\n",
       "    <tr>\n",
       "      <th>127019</th>\n",
       "      <td>127020</td>\n",
       "      <td>6830</td>\n",
       "      <td>this loose collection of largely improvised nu...</td>\n",
       "      <td>1</td>\n",
       "    </tr>\n",
       "    <tr>\n",
       "      <th>79385</th>\n",
       "      <td>79386</td>\n",
       "      <td>4089</td>\n",
       "      <td>even greater</td>\n",
       "      <td>2</td>\n",
       "    </tr>\n",
       "    <tr>\n",
       "      <th>33076</th>\n",
       "      <td>33077</td>\n",
       "      <td>1551</td>\n",
       "      <td>you 're not fans of the adventues of Steve and...</td>\n",
       "      <td>1</td>\n",
       "    </tr>\n",
       "    <tr>\n",
       "      <th>144333</th>\n",
       "      <td>144334</td>\n",
       "      <td>7836</td>\n",
       "      <td>morality , family , and</td>\n",
       "      <td>2</td>\n",
       "    </tr>\n",
       "    <tr>\n",
       "      <th>76891</th>\n",
       "      <td>76892</td>\n",
       "      <td>3953</td>\n",
       "      <td>a tenacious demonstration</td>\n",
       "      <td>2</td>\n",
       "    </tr>\n",
       "    <tr>\n",
       "      <th>121384</th>\n",
       "      <td>121385</td>\n",
       "      <td>6502</td>\n",
       "      <td>of serious subject matter and dark , funny humor</td>\n",
       "      <td>3</td>\n",
       "    </tr>\n",
       "    <tr>\n",
       "      <th>118544</th>\n",
       "      <td>118545</td>\n",
       "      <td>6334</td>\n",
       "      <td>The unexpected thing</td>\n",
       "      <td>2</td>\n",
       "    </tr>\n",
       "    <tr>\n",
       "      <th>39239</th>\n",
       "      <td>39240</td>\n",
       "      <td>1873</td>\n",
       "      <td>One of those staggeringly well-produced , joyl...</td>\n",
       "      <td>2</td>\n",
       "    </tr>\n",
       "    <tr>\n",
       "      <th>21260</th>\n",
       "      <td>21261</td>\n",
       "      <td>951</td>\n",
       "      <td>relayed by superb</td>\n",
       "      <td>3</td>\n",
       "    </tr>\n",
       "    <tr>\n",
       "      <th>28157</th>\n",
       "      <td>28158</td>\n",
       "      <td>1294</td>\n",
       "      <td>the film deliberately lacks irony</td>\n",
       "      <td>2</td>\n",
       "    </tr>\n",
       "    <tr>\n",
       "      <th>29540</th>\n",
       "      <td>29541</td>\n",
       "      <td>1368</td>\n",
       "      <td>to yourself</td>\n",
       "      <td>2</td>\n",
       "    </tr>\n",
       "    <tr>\n",
       "      <th>15391</th>\n",
       "      <td>15392</td>\n",
       "      <td>658</td>\n",
       "      <td>the imagined glory of their own pasts</td>\n",
       "      <td>1</td>\n",
       "    </tr>\n",
       "    <tr>\n",
       "      <th>109719</th>\n",
       "      <td>109720</td>\n",
       "      <td>5813</td>\n",
       "      <td>and murky cinematography</td>\n",
       "      <td>1</td>\n",
       "    </tr>\n",
       "    <tr>\n",
       "      <th>48939</th>\n",
       "      <td>48940</td>\n",
       "      <td>2389</td>\n",
       "      <td>Cage manages a degree of casual realism</td>\n",
       "      <td>3</td>\n",
       "    </tr>\n",
       "    <tr>\n",
       "      <th>62617</th>\n",
       "      <td>62618</td>\n",
       "      <td>3167</td>\n",
       "      <td>comfort food</td>\n",
       "      <td>3</td>\n",
       "    </tr>\n",
       "    <tr>\n",
       "      <th>96326</th>\n",
       "      <td>96327</td>\n",
       "      <td>5032</td>\n",
       "      <td>A showcase for both the scenic splendor of the...</td>\n",
       "      <td>3</td>\n",
       "    </tr>\n",
       "    <tr>\n",
       "      <th>98615</th>\n",
       "      <td>98616</td>\n",
       "      <td>5169</td>\n",
       "      <td>the adventures that happen along the way</td>\n",
       "      <td>2</td>\n",
       "    </tr>\n",
       "    <tr>\n",
       "      <th>34331</th>\n",
       "      <td>34332</td>\n",
       "      <td>1611</td>\n",
       "      <td>overrun</td>\n",
       "      <td>1</td>\n",
       "    </tr>\n",
       "  </tbody>\n",
       "</table>\n",
       "</div>"
      ],
      "text/plain": [
       "        PhraseId  SentenceId  \\\n",
       "90008      90009        4683   \n",
       "129034    129035        6940   \n",
       "127019    127020        6830   \n",
       "79385      79386        4089   \n",
       "33076      33077        1551   \n",
       "144333    144334        7836   \n",
       "76891      76892        3953   \n",
       "121384    121385        6502   \n",
       "118544    118545        6334   \n",
       "39239      39240        1873   \n",
       "21260      21261         951   \n",
       "28157      28158        1294   \n",
       "29540      29541        1368   \n",
       "15391      15392         658   \n",
       "109719    109720        5813   \n",
       "48939      48940        2389   \n",
       "62617      62618        3167   \n",
       "96326      96327        5032   \n",
       "98615      98616        5169   \n",
       "34331      34332        1611   \n",
       "\n",
       "                                                   Phrase  Sentiment  \n",
       "90008   selecting interview subjects who will construc...          1  \n",
       "129034                                 nearly as downbeat          2  \n",
       "127019  this loose collection of largely improvised nu...          1  \n",
       "79385                                        even greater          2  \n",
       "33076   you 're not fans of the adventues of Steve and...          1  \n",
       "144333                            morality , family , and          2  \n",
       "76891                           a tenacious demonstration          2  \n",
       "121384   of serious subject matter and dark , funny humor          3  \n",
       "118544                               The unexpected thing          2  \n",
       "39239   One of those staggeringly well-produced , joyl...          2  \n",
       "21260                                   relayed by superb          3  \n",
       "28157                   the film deliberately lacks irony          2  \n",
       "29540                                         to yourself          2  \n",
       "15391               the imagined glory of their own pasts          1  \n",
       "109719                           and murky cinematography          1  \n",
       "48939             Cage manages a degree of casual realism          3  \n",
       "62617                                        comfort food          3  \n",
       "96326   A showcase for both the scenic splendor of the...          3  \n",
       "98615            the adventures that happen along the way          2  \n",
       "34331                                             overrun          1  "
      ]
     },
     "execution_count": 3,
     "metadata": {},
     "output_type": "execute_result"
    }
   ],
   "source": [
    "train.sample(20)"
   ]
  },
  {
   "cell_type": "markdown",
   "id": "001f6825",
   "metadata": {},
   "source": [
    "## 数据预处理\n",
    "1. 统计单词频率并保留频率最高的1000个单词，构建单词到索引的映射，以及构建索引到单词的映射。"
   ]
  },
  {
   "cell_type": "code",
   "execution_count": 4,
   "id": "94cd4f35",
   "metadata": {},
   "outputs": [
    {
     "name": "stdout",
     "output_type": "stream",
     "text": [
      "<UNK>: 16531\n"
     ]
    }
   ],
   "source": [
    "# 使用部分数据\n",
    "# train = train.head(1000)\n",
    "\n",
    "# 创建字典\n",
    "len_list = []\n",
    "word_freq_map = defaultdict(int)\n",
    "for sentence in train.Phrase:\n",
    "    words = sentence.split()\n",
    "    words = [w.lower() for w in words] # 统一为小写\n",
    "    len_list.append(len(words))\n",
    "    for word in words:\n",
    "        word_freq_map[word] += 1\n",
    "\n",
    "word_freq_map = dict(sorted(word_freq_map.items(),\n",
    "                                   key=lambda x: x[1], reverse=True))\n",
    "top_k_words = 100000\n",
    "# 使用列表根据序号查找单词 (特殊词 <UNK> 表示未登录词)\n",
    "idx2word = list(word_freq_map.keys())[:top_k_words] + ['<UNK>', '<PAD>'] # \n",
    "# 使用词典根据单词查找序号\n",
    "word2idx = {idx2word[i]:i for i in range(len(idx2word))}\n",
    "print('<UNK>:', word2idx['<UNK>'])"
   ]
  },
  {
   "cell_type": "markdown",
   "id": "92b2bf9a",
   "metadata": {},
   "source": [
    "2. 构建基于Bag-of-Words的数据集"
   ]
  },
  {
   "cell_type": "code",
   "execution_count": 5,
   "id": "6aafae02",
   "metadata": {},
   "outputs": [],
   "source": [
    "# Bag of Words dataset \n",
    "def extract_word_index_feat(df, idx2word, word2idx, max_len=40):\n",
    "    X = []\n",
    "    for sentence in df.Phrase:\n",
    "        x = np.ones(max_len,dtype=np.int64)*word2idx['<PAD>'] # 默认全部为填充词<PAD>\n",
    "        words = sentence.split()\n",
    "        words = [w.lower() for w in words][:max_len]\n",
    "        for i,w in enumerate(words):\n",
    "            if w in word2idx:\n",
    "                x[i]=word2idx[w]\n",
    "            else:\n",
    "                x[i]=word2idx['<UNK>']\n",
    "        X.append(x)\n",
    "    X = np.array(X)\n",
    "    y = np.array(df.Sentiment)\n",
    "    return X, y"
   ]
  },
  {
   "cell_type": "code",
   "execution_count": 6,
   "id": "bc9c8882",
   "metadata": {},
   "outputs": [],
   "source": [
    "X,y = extract_word_index_feat(train, idx2word, word2idx)"
   ]
  },
  {
   "cell_type": "code",
   "execution_count": 7,
   "id": "2fa05bc3",
   "metadata": {},
   "outputs": [],
   "source": [
    "train_num = int(len(X) * 0.8)\n",
    "X_train = X[:train_num]\n",
    "y_train = y[:train_num]\n",
    "X_val = X[train_num:]\n",
    "y_val = y[train_num:]"
   ]
  },
  {
   "cell_type": "code",
   "execution_count": 8,
   "id": "5f32f996",
   "metadata": {},
   "outputs": [],
   "source": [
    "class SentimentDataset(Dataset):\n",
    "    def __init__(self, X, y):\n",
    "        self.X = torch.tensor(X, dtype=torch.long)\n",
    "        self.y = torch.tensor(y, dtype=torch.long)\n",
    "\n",
    "    def __len__(self):\n",
    "        return len(self.X)\n",
    "\n",
    "    def __getitem__(self, idx):\n",
    "        return self.X[idx], self.y[idx]"
   ]
  },
  {
   "cell_type": "code",
   "execution_count": 9,
   "id": "b98edb32",
   "metadata": {},
   "outputs": [],
   "source": [
    "# 创建训练与验证数据集\n",
    "train_dataset = SentimentDataset(X_train, y_train)\n",
    "val_dataset = SentimentDataset(X_val, y_val)"
   ]
  },
  {
   "cell_type": "markdown",
   "id": "19bc4a32",
   "metadata": {},
   "source": [
    "## 构建模型"
   ]
  },
  {
   "cell_type": "code",
   "execution_count": 10,
   "id": "29e9de06",
   "metadata": {},
   "outputs": [],
   "source": [
    "import torch\n",
    "import torch.nn as nn\n",
    "import torch.optim as optim\n",
    "import torch.nn.functional as F\n",
    "from torch.utils.data import DataLoader\n",
    "from sklearn.model_selection import train_test_split\n",
    "\n",
    "# Define the MLP model\n",
    "class MLP(nn.Module):\n",
    "    def __init__(self, input_dim, hid_dim, output_dim, vocab_size, embedding_dim):\n",
    "        super(MLP, self).__init__()\n",
    "        self.embedding = nn.Embedding(vocab_size, embedding_dim)\n",
    "        self.flatten = nn.Flatten()\n",
    "        self.fc1 = nn.Linear(embedding_dim * input_dim, hid_dim)\n",
    "        self.relu = nn.ReLU()\n",
    "        self.fc2 = nn.Linear(hid_dim, output_dim)  # 5 classes for classification\n",
    "\n",
    "    def forward(self, x):\n",
    "        x = self.embedding(x)\n",
    "        x = self.flatten(x)\n",
    "        x = self.fc1(x)\n",
    "        x = self.relu(x)\n",
    "        x = self.fc2(x)\n",
    "        x = F.softmax(x, dim=-1)\n",
    "        return x\n",
    "\n"
   ]
  },
  {
   "cell_type": "code",
   "execution_count": 11,
   "id": "804def77",
   "metadata": {},
   "outputs": [],
   "source": [
    "# Create an instance of the MLP model\n",
    "model = MLP(input_dim=40, hid_dim=100, output_dim=5, \n",
    "            vocab_size=len(idx2word), embedding_dim=50)\n",
    "\n",
    "# Define the optimizer and loss function\n",
    "optimizer = optim.Adam(model.parameters(), lr=0.001)\n",
    "criterion = nn.CrossEntropyLoss()\n",
    "\n",
    "\n",
    "# Create DataLoader instances for training and validation\n",
    "train_loader = DataLoader(train_dataset, batch_size=32, shuffle=True)\n",
    "val_loader = DataLoader(val_dataset, batch_size=32, shuffle=False)"
   ]
  },
  {
   "cell_type": "markdown",
   "id": "a9ec1215",
   "metadata": {},
   "source": [
    "## 模型训练"
   ]
  },
  {
   "cell_type": "code",
   "execution_count": 12,
   "id": "3f64d494",
   "metadata": {},
   "outputs": [
    {
     "name": "stdout",
     "output_type": "stream",
     "text": [
      "Epoch 1/10, Loss: 1.3706, Val Loss: 1.3834, Train Acc: 52.17%, Val Acc: 50.84%\n",
      "Epoch 2/10, Loss: 1.3325, Val Loss: 1.3670, Train Acc: 56.47%, Val Acc: 52.80%\n",
      "Epoch 3/10, Loss: 1.2893, Val Loss: 1.3553, Train Acc: 61.11%, Val Acc: 54.00%\n",
      "Epoch 4/10, Loss: 1.2594, Val Loss: 1.3501, Train Acc: 64.26%, Val Acc: 54.72%\n",
      "Epoch 5/10, Loss: 1.2374, Val Loss: 1.3475, Train Acc: 66.54%, Val Acc: 55.04%\n",
      "Epoch 6/10, Loss: 1.2199, Val Loss: 1.3452, Train Acc: 68.38%, Val Acc: 55.34%\n",
      "Epoch 7/10, Loss: 1.2063, Val Loss: 1.3452, Train Acc: 69.78%, Val Acc: 55.40%\n",
      "Epoch 8/10, Loss: 1.1944, Val Loss: 1.3454, Train Acc: 70.97%, Val Acc: 55.43%\n",
      "Epoch 9/10, Loss: 1.1845, Val Loss: 1.3459, Train Acc: 72.00%, Val Acc: 55.41%\n",
      "Epoch 10/10, Loss: 1.1769, Val Loss: 1.3464, Train Acc: 72.76%, Val Acc: 55.40%\n"
     ]
    }
   ],
   "source": [
    "import matplotlib.pyplot as plt\n",
    "import numpy as np\n",
    "\n",
    "train_losses = []\n",
    "val_losses = []\n",
    "train_accuracies = []\n",
    "val_accuracies = []\n",
    "\n",
    "# Training loop\n",
    "num_epochs = 10\n",
    "for epoch in range(num_epochs):\n",
    "    model.train()\n",
    "    running_loss = 0.0\n",
    "    train_correct = 0\n",
    "    for inputs, labels in train_loader:\n",
    "        optimizer.zero_grad()\n",
    "        outputs = model(inputs)\n",
    "        _, predicted = torch.max(outputs.data, 1)\n",
    "        train_correct += (predicted == labels).sum().item()\n",
    "        loss = criterion(outputs, labels)\n",
    "        loss.backward()\n",
    "        optimizer.step()\n",
    "        running_loss += loss.item()\n",
    "    train_loss = running_loss / len(train_loader)\n",
    "    train_losses.append(train_loss)\n",
    "    train_acc = (train_correct/len(train_loader.dataset)) * 100\n",
    "    train_accuracies.append(train_acc)\n",
    "\n",
    "    # Validation loop\n",
    "    model.eval()\n",
    "    val_loss = 0.0\n",
    "    correct = 0\n",
    "    with torch.no_grad():\n",
    "        for inputs, labels in val_loader:\n",
    "            outputs = model(inputs)\n",
    "            _, predicted = torch.max(outputs.data, 1)\n",
    "            correct += (predicted == labels).sum().item()\n",
    "            val_loss += criterion(outputs, labels).item()\n",
    "\n",
    "    val_loss /= len(val_loader)\n",
    "    val_losses.append(val_loss)\n",
    "    val_acc = (correct / len(val_loader.dataset)) * 100\n",
    "    val_accuracies.append(val_acc)\n",
    "\n",
    "    # Print training and validation loss, and validation accuracy\n",
    "    print(f\"Epoch {epoch+1}/{num_epochs}, Loss: {train_loss:.4f}, Val Loss: {val_loss:.4f}, Train Acc: {train_acc:.2f}%, Val Acc: {val_acc:.2f}%\")\n",
    "\n",
    "\n"
   ]
  },
  {
   "cell_type": "code",
   "execution_count": 13,
   "id": "8a7738ed",
   "metadata": {},
   "outputs": [
    {
     "data": {
      "image/png": "[encoded data removed]",
      "text/plain": [
       "<Figure size 864x432 with 2 Axes>"
      ]
     },
     "metadata": {
      "needs_background": "light"
     },
     "output_type": "display_data"
    }
   ],
   "source": [
    "# Plotting the loss and accuracy curves\n",
    "plt.figure(figsize=(12, 6))\n",
    "plt.subplot(1, 2, 1)\n",
    "plt.plot(np.arange(1, num_epochs+1), train_losses, label='Train Loss')\n",
    "plt.plot(np.arange(1, num_epochs+1), val_losses, label='Val Loss')\n",
    "plt.xlabel('Epoch')\n",
    "plt.ylabel('Loss')\n",
    "plt.legend()\n",
    "\n",
    "plt.subplot(1, 2, 2)\n",
    "plt.plot(np.arange(1, num_epochs+1), train_accuracies, label='Train Acc')\n",
    "plt.plot(np.arange(1, num_epochs+1), val_accuracies, label='Val Acc')\n",
    "plt.xlabel('Epoch')\n",
    "plt.ylabel('Accuracy')\n",
    "plt.legend()\n",
    "\n",
    "plt.show()"
   ]
  },
  {
   "cell_type": "markdown",
   "id": "5b5efeda",
   "metadata": {},
   "source": [
    "## 生成测试结果"
   ]
  },
  {
   "cell_type": "code",
   "execution_count": 14,
   "id": "dfcd1778",
   "metadata": {},
   "outputs": [
    {
     "data": {
      "text/html": [
       "<div>\n",
       "<style scoped>\n",
       "    .dataframe tbody tr th:only-of-type {\n",
       "        vertical-align: middle;\n",
       "    }\n",
       "\n",
       "    .dataframe tbody tr th {\n",
       "        vertical-align: top;\n",
       "    }\n",
       "\n",
       "    .dataframe thead th {\n",
       "        text-align: right;\n",
       "    }\n",
       "</style>\n",
       "<table border=\"1\" class=\"dataframe\">\n",
       "  <thead>\n",
       "    <tr style=\"text-align: right;\">\n",
       "      <th></th>\n",
       "      <th>PhraseId</th>\n",
       "      <th>SentenceId</th>\n",
       "      <th>Phrase</th>\n",
       "    </tr>\n",
       "  </thead>\n",
       "  <tbody>\n",
       "    <tr>\n",
       "      <th>6109</th>\n",
       "      <td>162170</td>\n",
       "      <td>8774</td>\n",
       "      <td>feminist fairy tale</td>\n",
       "    </tr>\n",
       "    <tr>\n",
       "      <th>50553</th>\n",
       "      <td>206614</td>\n",
       "      <td>10984</td>\n",
       "      <td>The additional storyline is interesting and en...</td>\n",
       "    </tr>\n",
       "    <tr>\n",
       "      <th>20892</th>\n",
       "      <td>176953</td>\n",
       "      <td>9477</td>\n",
       "      <td>tolerable</td>\n",
       "    </tr>\n",
       "    <tr>\n",
       "      <th>12055</th>\n",
       "      <td>168116</td>\n",
       "      <td>9046</td>\n",
       "      <td>seem possible</td>\n",
       "    </tr>\n",
       "    <tr>\n",
       "      <th>25268</th>\n",
       "      <td>181329</td>\n",
       "      <td>9696</td>\n",
       "      <td>the gears of justice grind on and the death re...</td>\n",
       "    </tr>\n",
       "  </tbody>\n",
       "</table>\n",
       "</div>"
      ],
      "text/plain": [
       "       PhraseId  SentenceId                                             Phrase\n",
       "6109     162170        8774                                feminist fairy tale\n",
       "50553    206614       10984  The additional storyline is interesting and en...\n",
       "20892    176953        9477                                          tolerable\n",
       "12055    168116        9046                                      seem possible\n",
       "25268    181329        9696  the gears of justice grind on and the death re..."
      ]
     },
     "execution_count": 14,
     "metadata": {},
     "output_type": "execute_result"
    }
   ],
   "source": [
    "test = pd.read_csv('test.tsv', sep='\\t')\n",
    "test.sample(5)"
   ]
  },
  {
   "cell_type": "code",
   "execution_count": 16,
   "id": "65bed16b",
   "metadata": {},
   "outputs": [],
   "source": [
    "test['Sentiment'] = 0 # add fake label\n",
    "X_test,y_test = extract_word_index_feat(test, idx2word, word2idx)"
   ]
  },
  {
   "cell_type": "code",
   "execution_count": 17,
   "id": "7a0363da",
   "metadata": {},
   "outputs": [],
   "source": [
    "test_dataset = SentimentDataset(X_test, y_test)\n",
    "batch_size = 32\n",
    "test_loader = DataLoader(test_dataset, batch_size=batch_size)\n",
    "model.eval()\n",
    "all_predicted = []\n",
    "with torch.no_grad():\n",
    "    for inputs, _ in test_loader:\n",
    "        outputs = model(inputs)\n",
    "        _, predicted = torch.max(outputs, 1)\n",
    "        all_predicted.append(predicted.numpy())\n",
    "y_test = np.concatenate(all_predicted)"
   ]
  },
  {
   "cell_type": "code",
   "execution_count": 18,
   "id": "d0e3607e",
   "metadata": {},
   "outputs": [],
   "source": [
    "test['Sentiment']=y_test\n",
    "selected_columns = ['PhraseId', 'Sentiment']\n",
    "test[selected_columns].to_csv('Sentiment_wordemb_MLP.csv', index=False)"
   ]
  },
  {
   "cell_type": "code",
   "execution_count": null,
   "id": "e40783cd",
   "metadata": {},
   "outputs": [],
   "source": []
  }
 ],
 "metadata": {
  "kernelspec": {
   "display_name": "Python 3 (ipykernel)",
   "language": "python",
   "name": "python3"
  },
  "language_info": {
   "codemirror_mode": {
    "name": "ipython",
    "version": 3
   },
   "file_extension": ".py",
   "mimetype": "text/x-python",
   "name": "python",
   "nbconvert_exporter": "python",
   "pygments_lexer": "ipython3",
   "version": "3.9.12"
  }
 },
 "nbformat": 4,
 "nbformat_minor": 5
}
