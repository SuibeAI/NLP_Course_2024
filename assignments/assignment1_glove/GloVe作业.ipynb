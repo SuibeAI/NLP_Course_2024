{
 "cells": [
  {
   "cell_type": "markdown",
   "id": "a40e1ced",
   "metadata": {},
   "source": [
    "# 作业1 GloVe向量\n",
    "\n",
    "作业要求\n",
    "1. 到[https://nlp.stanford.edu/projects/glove/](https://nlp.stanford.edu/projects/glove/)，下载预训练好的词向量GloVE库glove.6B.zip，并解压到当前目录。\n",
    "2. 完成find_nearest_word函数，实现根据当前词查找最近词（不包含自身单词） （40%）\n",
    "3. 完成find_analogy函数，实现类别关系a之于b，相当于c之于(不包含单词a,b,c) （40%）\n",
    "4. 使用Numpy向量化（vectorized）方式完成find_nearest_word_vectorizedversion函数，提升效率。（20%）"
   ]
  },
  {
   "cell_type": "code",
   "execution_count": null,
   "id": "39e30853",
   "metadata": {},
   "outputs": [],
   "source": [
    "import numpy as np\n",
    "import time"
   ]
  },
  {
   "cell_type": "markdown",
   "id": "ef31c92a",
   "metadata": {},
   "source": [
    "## 加载GloVe"
   ]
  },
  {
   "cell_type": "code",
   "execution_count": null,
   "id": "b49003bc",
   "metadata": {},
   "outputs": [],
   "source": [
    "def load_glove_vectors(file_path):\n",
    "    \"\"\"加载GloVe词向量库到词典（词到词向量）\n",
    "    \"\"\"\n",
    "    word_vectors = {}\n",
    "    with open(file_path, 'r', encoding='utf-8') as f:\n",
    "        for line in f:\n",
    "            values = line.split()\n",
    "            word = values[0]\n",
    "            vector = np.asarray(values[1:], dtype='float32')\n",
    "            word_vectors[word] = vector\n",
    "    return word_vectors"
   ]
  },
  {
   "cell_type": "code",
   "execution_count": null,
   "id": "a2151086",
   "metadata": {},
   "outputs": [],
   "source": [
    "# 加载\n",
    "glove_file = 'glove.6B.300d.txt'  # 选择合适的GloVe文件\n",
    "glove_vectors = load_glove_vectors(glove_file)"
   ]
  },
  {
   "cell_type": "markdown",
   "id": "26164c99",
   "metadata": {},
   "source": [
    "## 完成find_analogy函数"
   ]
  },
  {
   "cell_type": "code",
   "execution_count": null,
   "id": "4cb20aac",
   "metadata": {},
   "outputs": [],
   "source": [
    "def find_nearest_word(word, word_vectors, top_n=5):\n",
    "    \"\"\"寻找与当前单词L2距离最近的top_n个单词的列表\n",
    "    word: 当前词\n",
    "    word_vectors: 词到词向量的词典\n",
    "    top_n: 列表长度\n",
    "    \"\"\"\n",
    "    if word in word_vectors:\n",
    "        target_vector = word_vectors[word]\n",
    "        distances = {}\n",
    "        for w, v in word_vectors.items():\n",
    "            if w != word:\n",
    "                distances[w] = # todo\n",
    "        sorted_distances = # todo\n",
    "        nearest_words = [w for w, _ in sorted_distances[:top_n]]\n",
    "        return nearest_words\n",
    "    else:\n",
    "        return None"
   ]
  },
  {
   "cell_type": "code",
   "execution_count": null,
   "id": "42b078c3",
   "metadata": {},
   "outputs": [],
   "source": [
    "word = 'king'\n",
    "start_time = time.time()\n",
    "nearest_words = find_nearest_word(word, glove_vectors)\n",
    "print(f\"Expected result: ['queen', 'monarch', 'prince', 'kingdom', 'reign']\")\n",
    "print(f\"Nearest words to '{word}': {nearest_words}\")\n",
    "end_time = time.time()\n",
    "cost_time = end_time - start_time\n",
    "print(f\"cost time: {cost_time} seconds\")"
   ]
  },
  {
   "cell_type": "markdown",
   "id": "c153bcd0",
   "metadata": {},
   "source": [
    "## 完成find_analogy"
   ]
  },
  {
   "cell_type": "code",
   "execution_count": null,
   "id": "a23e4d69",
   "metadata": {},
   "outputs": [],
   "source": [
    "def find_analogy(a, b, c, word_vectors, top_n=5):\n",
    "    \"\"\"返回符合d的单词列表，满足a之于b，相当与c之于d\n",
    "    word_vectors: 词到词向量的词典\n",
    "    \"\"\"\n",
    "    if a in word_vectors and b in word_vectors and c in word_vectors:\n",
    "        # todo\n",
    "    else:\n",
    "        return None\n"
   ]
  },
  {
   "cell_type": "code",
   "execution_count": null,
   "id": "0a8f2327",
   "metadata": {},
   "outputs": [],
   "source": [
    "a = 'man'\n",
    "b = 'king'\n",
    "c = 'woman'\n",
    "analogy_words = find_analogy(a, b, c, glove_vectors)\n",
    "print(f\"Analogy words to '{a}:{b}::{c}': {analogy_words}\")"
   ]
  },
  {
   "cell_type": "markdown",
   "id": "1eeccf72",
   "metadata": {},
   "source": [
    "## 完成find_nearest_word_vectorizedversion"
   ]
  },
  {
   "cell_type": "code",
   "execution_count": null,
   "id": "20cee3c8",
   "metadata": {},
   "outputs": [],
   "source": [
    "def find_nearest_word_vectorizedversion(target_vector, all_vectors, all_words, top_n=5):\n",
    "    \"\"\" 寻找与当前单词向量L2距离最近的top_n个单词的列表\n",
    "    target_vector 当前单词的向量\n",
    "    all_vectors 所有单词向量矩阵\n",
    "    all_words 所有单词列表\n",
    "    \"\"\"\n",
    "    # todo\n",
    "    return nearest_words\n",
    "    "
   ]
  },
  {
   "cell_type": "code",
   "execution_count": null,
   "id": "0c163b64",
   "metadata": {},
   "outputs": [],
   "source": [
    "all_vectors = np.array(list(glove_vectors.values()))\n",
    "all_words = list(glove_vectors.keys())"
   ]
  },
  {
   "cell_type": "code",
   "execution_count": null,
   "id": "100288fe",
   "metadata": {},
   "outputs": [],
   "source": [
    "word = 'king'\n",
    "target_vector = glove_vectors[word]\n",
    "start_time = time.time()\n",
    "nearest_words = find_nearest_word_vectorizedversion(target_vector, all_vectors, all_words)\n",
    "print(f\"Expected result: ['queen', 'monarch', 'prince', 'kingdom', 'reign']\")\n",
    "print(f\"Nearest words to '{word}': {nearest_words}\")\n",
    "end_time = time.time()\n",
    "cost_time = end_time - start_time\n",
    "print(f\"cost time: {cost_time} seconds\")"
   ]
  },
  {
   "cell_type": "code",
   "execution_count": null,
   "id": "3c3c71aa",
   "metadata": {},
   "outputs": [],
   "source": []
  }
 ],
 "metadata": {
  "kernelspec": {
   "display_name": "Python 3 (ipykernel)",
   "language": "python",
   "name": "python3"
  },
  "language_info": {
   "codemirror_mode": {
    "name": "ipython",
    "version": 3
   },
   "file_extension": ".py",
   "mimetype": "text/x-python",
   "name": "python",
   "nbconvert_exporter": "python",
   "pygments_lexer": "ipython3",
   "version": "3.9.12"
  }
 },
 "nbformat": 4,
 "nbformat_minor": 5
}
