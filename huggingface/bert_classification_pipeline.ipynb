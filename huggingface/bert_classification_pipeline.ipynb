{
 "cells": [
  {
   "cell_type": "code",
   "execution_count": 1,
   "metadata": {},
   "outputs": [],
   "source": [
    "from transformers import AutoTokenizer, AutoModelForSequenceClassification\n",
    "\n",
    "# Specify the path to your local model folder\n",
    "local_model_path = \"../huggingface_models/bert-base-cased\"\n",
    "\n",
    "# Load the tokenizer from the local model path\n",
    "tokenizer = AutoTokenizer.from_pretrained(local_model_path)\n",
    "\n",
    "# Define the sentence to be tokenized\n",
    "sentence = \"Alan likes transformer\""
   ]
  },
  {
   "cell_type": "code",
   "execution_count": 2,
   "metadata": {},
   "outputs": [
    {
     "name": "stdout",
     "output_type": "stream",
     "text": [
      "Tokens: ['Alan', 'likes', 'transform', '##er']\n"
     ]
    }
   ],
   "source": [
    "# Tokenize the sentence\n",
    "tokens = tokenizer.tokenize(sentence)\n",
    "print(\"Tokens:\", tokens)"
   ]
  },
  {
   "cell_type": "code",
   "execution_count": 3,
   "metadata": {},
   "outputs": [
    {
     "name": "stdout",
     "output_type": "stream",
     "text": [
      "Token IDs: [101, 4258, 7407, 11303, 1200, 102]\n"
     ]
    }
   ],
   "source": [
    "# Add special tokens for BERT input\n",
    "tokens = ['[CLS]'] + tokens + ['[SEP]']\n",
    "\n",
    "# Convert tokens to their respective IDs\n",
    "token_ids = tokenizer.convert_tokens_to_ids(tokens)\n",
    "print(\"Token IDs:\", token_ids)"
   ]
  },
  {
   "cell_type": "code",
   "execution_count": 4,
   "metadata": {},
   "outputs": [
    {
     "name": "stderr",
     "output_type": "stream",
     "text": [
      "Some weights of BertForSequenceClassification were not initialized from the model checkpoint at ../huggingface_models/bert-base-cased and are newly initialized: ['classifier.bias', 'classifier.weight']\n",
      "You should probably TRAIN this model on a down-stream task to be able to use it for predictions and inference.\n"
     ]
    },
    {
     "name": "stdout",
     "output_type": "stream",
     "text": [
      "Model Inputs: {'input_ids': tensor([[  101,  4258,  7407, 11303,  1200,   102]]), 'token_type_ids': tensor([[0, 0, 0, 0, 0, 0]]), 'attention_mask': tensor([[1, 1, 1, 1, 1, 1]])}\n"
     ]
    }
   ],
   "source": [
    "# Load the model from the local model path\n",
    "model = AutoModelForSequenceClassification.from_pretrained(local_model_path)\n",
    "\n",
    "# Prepare the inputs for the model\n",
    "inputs = tokenizer(sentence, return_tensors='pt')\n",
    "print(\"Model Inputs:\", inputs)"
   ]
  },
  {
   "cell_type": "code",
   "execution_count": 5,
   "metadata": {},
   "outputs": [
    {
     "name": "stdout",
     "output_type": "stream",
     "text": [
      "Embeddings: torch.Size([1, 6, 768])\n"
     ]
    }
   ],
   "source": [
    "# Get the embeddings from the embedding layer\n",
    "embeddings = model.bert.embeddings(inputs['input_ids'])\n",
    "print(\"Embeddings:\", embeddings.shape)"
   ]
  },
  {
   "cell_type": "code",
   "execution_count": 6,
   "metadata": {},
   "outputs": [
    {
     "name": "stdout",
     "output_type": "stream",
     "text": [
      "Backbone Outputs: torch.Size([1, 6, 768])\n"
     ]
    }
   ],
   "source": [
    "# Pass the embeddings through the model to get the outputs\n",
    "outputs = model.bert(**inputs)\n",
    "print(\"Backbone Outputs:\", outputs.last_hidden_state.shape)"
   ]
  },
  {
   "cell_type": "code",
   "execution_count": 7,
   "metadata": {},
   "outputs": [
    {
     "name": "stdout",
     "output_type": "stream",
     "text": [
      "model.classifier Linear(in_features=768, out_features=2, bias=True)\n",
      "Logits: tensor([[0.4435, 0.4257]], grad_fn=<AddmmBackward0>)\n"
     ]
    }
   ],
   "source": [
    "# Pass the outputs through the classification head (using the [CLS] token's hidden state)\n",
    "logits = model.classifier(outputs.last_hidden_state[:, 0])\n",
    "print(\"model.classifier\", model.classifier)\n",
    "print(\"Logits:\", logits)"
   ]
  },
  {
   "cell_type": "code",
   "execution_count": null,
   "metadata": {},
   "outputs": [],
   "source": []
  }
 ],
 "metadata": {
  "kernelspec": {
   "display_name": "base",
   "language": "python",
   "name": "python3"
  },
  "language_info": {
   "codemirror_mode": {
    "name": "ipython",
    "version": 3
   },
   "file_extension": ".py",
   "mimetype": "text/x-python",
   "name": "python",
   "nbconvert_exporter": "python",
   "pygments_lexer": "ipython3",
   "version": "3.9.12"
  }
 },
 "nbformat": 4,
 "nbformat_minor": 2
}
